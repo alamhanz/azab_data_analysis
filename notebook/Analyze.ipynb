{
 "cells": [
  {
   "cell_type": "markdown",
   "metadata": {},
   "source": [
    "# Azab Data by Kumparan (pt 2)"
   ]
  },
  {
   "cell_type": "code",
   "execution_count": 1,
   "metadata": {},
   "outputs": [],
   "source": [
    "data_path=\"../data_raw/\"\n",
    "model_path=\"../model/\""
   ]
  },
  {
   "cell_type": "code",
   "execution_count": 2,
   "metadata": {},
   "outputs": [],
   "source": [
    "%matplotlib inline\n",
    "import re\n",
    "import matplotlib\n",
    "import numpy as np\n",
    "import matplotlib.pyplot as plt\n",
    "import pandas as pd\n",
    "\n",
    "import nltk\n",
    "from sklearn.feature_extraction.text import TfidfVectorizer\n",
    "\n",
    "\n",
    "from gensim.models import Word2Vec\n",
    "import seaborn as sns\n",
    "from gensim.models.wrappers import FastText\n",
    "from gensim.models import KeyedVectors\n",
    "\n",
    "#bahasa stemmer\n",
    "from Sastrawi.Stemmer.StemmerFactory import StemmerFactory\n",
    "factory = StemmerFactory()\n",
    "stemmer = factory.create_stemmer()\n",
    "\n",
    "from wordcloud import WordCloud"
   ]
  },
  {
   "cell_type": "code",
   "execution_count": null,
   "metadata": {},
   "outputs": [],
   "source": []
  },
  {
   "cell_type": "markdown",
   "metadata": {},
   "source": [
    "### Cleaning Punctuation and create sentences list"
   ]
  },
  {
   "cell_type": "code",
   "execution_count": 281,
   "metadata": {},
   "outputs": [],
   "source": [
    "# remove ibu from stopwords\n",
    "stop_words_id=open(data_path+\"stopwords_id.txt\")\n",
    "stop_words_id=list(set([i[:-1] for i in stop_words_id.readlines()]))\n",
    "dtx=pd.read_csv(data_path+\"data_azab.csv\")\n",
    "# re.sub( '\\s+', ' ',\n"
   ]
  },
  {
   "cell_type": "code",
   "execution_count": 282,
   "metadata": {},
   "outputs": [],
   "source": [
    "def remove_stops(X):\n",
    "    X2=[]\n",
    "    for c in X.split(\" \"):\n",
    "        if len(c)>=2 and c not in stop_words_id:\n",
    "            X2.append(c)\n",
    "    return \" \".join(X2)\n",
    "\n",
    "def stem_process(X):\n",
    "    X2=[\"zalim\" if (\"dzolim\" in t)|(\"dzalim\" in t)|(\"zalim\" in t) else stemmer.stem(t) for t in X.split(\" \")]\n",
    "    X2=[\"orangtua\" if (\"orangtua\" in t) | (\"orang tua\" in t) else t for t in X2 ]\n",
    "#     [char.upper() if char != 'B' else char.lower() for char in \"aBcDeF\"]\n",
    "    return \" \".join(X2)"
   ]
  },
  {
   "cell_type": "code",
   "execution_count": 283,
   "metadata": {},
   "outputs": [],
   "source": [
    "dtx[\"Judul2\"]=dtx.Judul.apply(lambda x: re.sub(r\"[@#?!$.,-:]\\ *\", \" \",x).lower())\n",
    "dtx[\"Judul2_no_stopwords\"]=dtx.Judul2.apply(lambda x: remove_stops(x))\n",
    "dtx[\"Judul2_ns_stem\"]=dtx.Judul2_no_stopwords.apply(lambda x: stem_process(x))"
   ]
  },
  {
   "cell_type": "code",
   "execution_count": 284,
   "metadata": {},
   "outputs": [],
   "source": [
    "dtx.to_csv(data_path+\"data_azab_cln1.csv\",index=False)"
   ]
  },
  {
   "cell_type": "code",
   "execution_count": 285,
   "metadata": {},
   "outputs": [
    {
     "data": {
      "text/html": [
       "<div>\n",
       "<style scoped>\n",
       "    .dataframe tbody tr th:only-of-type {\n",
       "        vertical-align: middle;\n",
       "    }\n",
       "\n",
       "    .dataframe tbody tr th {\n",
       "        vertical-align: top;\n",
       "    }\n",
       "\n",
       "    .dataframe thead th {\n",
       "        text-align: right;\n",
       "    }\n",
       "</style>\n",
       "<table border=\"1\" class=\"dataframe\">\n",
       "  <thead>\n",
       "    <tr style=\"text-align: right;\">\n",
       "      <th></th>\n",
       "      <th>Judul</th>\n",
       "      <th>Saluran TV</th>\n",
       "      <th>Judul2</th>\n",
       "      <th>Judul2_no_stopwords</th>\n",
       "      <th>Judul2_ns_stem</th>\n",
       "    </tr>\n",
       "  </thead>\n",
       "  <tbody>\n",
       "    <tr>\n",
       "      <th>110</th>\n",
       "      <td>Hancurkan Masjid, Anak Durhaka Mati Tertimbun ...</td>\n",
       "      <td>Indosiar</td>\n",
       "      <td>hancurkan masjid anak durhaka mati tertimbun d...</td>\n",
       "      <td>hancurkan masjid anak durhaka mati tertimbun j...</td>\n",
       "      <td>hancur masjid anak durhaka mati timbun jenazah...</td>\n",
       "    </tr>\n",
       "    <tr>\n",
       "      <th>140</th>\n",
       "      <td>Hidup Tidak Berkah, Mati dengan Tangan dan Kak...</td>\n",
       "      <td>MNCTV</td>\n",
       "      <td>hidup tidak berkah mati dengan tangan dan kaki...</td>\n",
       "      <td>hidup berkah mati tangan kaki diluruskan</td>\n",
       "      <td>hidup berkah mati tangan kaki lurus</td>\n",
       "    </tr>\n",
       "    <tr>\n",
       "      <th>163</th>\n",
       "      <td>Bos Penadah Barang Curian Mati Tragis dan Jena...</td>\n",
       "      <td>MNCTV</td>\n",
       "      <td>bos penadah barang curian mati tragis dan jena...</td>\n",
       "      <td>bos penadah barang curian mati tragis jenazah ...</td>\n",
       "      <td>bos tadah barang curi mati tragis jenazah samb...</td>\n",
       "    </tr>\n",
       "    <tr>\n",
       "      <th>85</th>\n",
       "      <td>Jenazah Orang yang Menggelapkan Uang, Kerandan...</td>\n",
       "      <td>Indosiar</td>\n",
       "      <td>jenazah orang yang menggelapkan uang kerandany...</td>\n",
       "      <td>jenazah orang menggelapkan uang kerandanya jat...</td>\n",
       "      <td>jenazah orang gelap uang keranda jatuh lumpur ...</td>\n",
       "    </tr>\n",
       "    <tr>\n",
       "      <th>173</th>\n",
       "      <td>Jenazah Perampok Sadis Masuk Ke Sungai</td>\n",
       "      <td>MNCTV</td>\n",
       "      <td>jenazah perampok sadis masuk ke sungai</td>\n",
       "      <td>jenazah perampok sadis masuk sungai</td>\n",
       "      <td>jenazah rampok sadis masuk sungai</td>\n",
       "    </tr>\n",
       "    <tr>\n",
       "      <th>11</th>\n",
       "      <td>Penghina Pengemis Mulutnya Terinfeksi Dan Jena...</td>\n",
       "      <td>Indosiar</td>\n",
       "      <td>penghina pengemis mulutnya terinfeksi dan jena...</td>\n",
       "      <td>penghina pengemis mulutnya terinfeksi jenazahn...</td>\n",
       "      <td>hina emis mulut infeksi jenazah bungkus karung...</td>\n",
       "    </tr>\n",
       "    <tr>\n",
       "      <th>82</th>\n",
       "      <td>Penjual Daging Oplosan mati Terjebak Perangkap...</td>\n",
       "      <td>Indosiar</td>\n",
       "      <td>penjual daging oplosan mati terjebak perangkap...</td>\n",
       "      <td>penjual daging oplosan mati terjebak perangkap...</td>\n",
       "      <td>jual daging oplos mati jebak perangkap celeng</td>\n",
       "    </tr>\n",
       "    <tr>\n",
       "      <th>70</th>\n",
       "      <td>Orang Sok Dermawan Tapi Ternyata Pelit, Jenaza...</td>\n",
       "      <td>Indosiar</td>\n",
       "      <td>orang sok dermawan tapi ternyata pelit jenazah...</td>\n",
       "      <td>orang sok dermawan pelit jenazahnya terbang di...</td>\n",
       "      <td>orang sok dermawan pelit jenazah terbang kubur</td>\n",
       "    </tr>\n",
       "    <tr>\n",
       "      <th>103</th>\n",
       "      <td>Kain Kafan Jenazah Si Penjual Air Zam-Zam Pals...</td>\n",
       "      <td>Indosiar</td>\n",
       "      <td>kain kafan jenazah si penjual air zam zam pals...</td>\n",
       "      <td>kain kafan jenazah si penjual air zam zam pals...</td>\n",
       "      <td>kain kafan jenazah si jual air zam zam palsu b...</td>\n",
       "    </tr>\n",
       "    <tr>\n",
       "      <th>63</th>\n",
       "      <td>Akibat Suka Sumpah Palsu, Tubuh Terkubur Hidup...</td>\n",
       "      <td>Indosiar</td>\n",
       "      <td>akibat suka sumpah palsu tubuh terkubur hidup ...</td>\n",
       "      <td>akibat suka sumpah palsu tubuh terkubur hidup ...</td>\n",
       "      <td>akibat suka sumpah palsu tubuh kubur hidup hid...</td>\n",
       "    </tr>\n",
       "  </tbody>\n",
       "</table>\n",
       "</div>"
      ],
      "text/plain": [
       "                                                 Judul Saluran TV  \\\n",
       "110  Hancurkan Masjid, Anak Durhaka Mati Tertimbun ...   Indosiar   \n",
       "140  Hidup Tidak Berkah, Mati dengan Tangan dan Kak...      MNCTV   \n",
       "163  Bos Penadah Barang Curian Mati Tragis dan Jena...      MNCTV   \n",
       "85   Jenazah Orang yang Menggelapkan Uang, Kerandan...   Indosiar   \n",
       "173             Jenazah Perampok Sadis Masuk Ke Sungai      MNCTV   \n",
       "11   Penghina Pengemis Mulutnya Terinfeksi Dan Jena...   Indosiar   \n",
       "82   Penjual Daging Oplosan mati Terjebak Perangkap...   Indosiar   \n",
       "70   Orang Sok Dermawan Tapi Ternyata Pelit, Jenaza...   Indosiar   \n",
       "103  Kain Kafan Jenazah Si Penjual Air Zam-Zam Pals...   Indosiar   \n",
       "63   Akibat Suka Sumpah Palsu, Tubuh Terkubur Hidup...   Indosiar   \n",
       "\n",
       "                                                Judul2  \\\n",
       "110  hancurkan masjid anak durhaka mati tertimbun d...   \n",
       "140  hidup tidak berkah mati dengan tangan dan kaki...   \n",
       "163  bos penadah barang curian mati tragis dan jena...   \n",
       "85   jenazah orang yang menggelapkan uang kerandany...   \n",
       "173             jenazah perampok sadis masuk ke sungai   \n",
       "11   penghina pengemis mulutnya terinfeksi dan jena...   \n",
       "82   penjual daging oplosan mati terjebak perangkap...   \n",
       "70   orang sok dermawan tapi ternyata pelit jenazah...   \n",
       "103  kain kafan jenazah si penjual air zam zam pals...   \n",
       "63   akibat suka sumpah palsu tubuh terkubur hidup ...   \n",
       "\n",
       "                                   Judul2_no_stopwords  \\\n",
       "110  hancurkan masjid anak durhaka mati tertimbun j...   \n",
       "140           hidup berkah mati tangan kaki diluruskan   \n",
       "163  bos penadah barang curian mati tragis jenazah ...   \n",
       "85   jenazah orang menggelapkan uang kerandanya jat...   \n",
       "173                jenazah perampok sadis masuk sungai   \n",
       "11   penghina pengemis mulutnya terinfeksi jenazahn...   \n",
       "82   penjual daging oplosan mati terjebak perangkap...   \n",
       "70   orang sok dermawan pelit jenazahnya terbang di...   \n",
       "103  kain kafan jenazah si penjual air zam zam pals...   \n",
       "63   akibat suka sumpah palsu tubuh terkubur hidup ...   \n",
       "\n",
       "                                        Judul2_ns_stem  \n",
       "110  hancur masjid anak durhaka mati timbun jenazah...  \n",
       "140                hidup berkah mati tangan kaki lurus  \n",
       "163  bos tadah barang curi mati tragis jenazah samb...  \n",
       "85   jenazah orang gelap uang keranda jatuh lumpur ...  \n",
       "173                  jenazah rampok sadis masuk sungai  \n",
       "11   hina emis mulut infeksi jenazah bungkus karung...  \n",
       "82       jual daging oplos mati jebak perangkap celeng  \n",
       "70      orang sok dermawan pelit jenazah terbang kubur  \n",
       "103  kain kafan jenazah si jual air zam zam palsu b...  \n",
       "63   akibat suka sumpah palsu tubuh kubur hidup hid...  "
      ]
     },
     "execution_count": 285,
     "metadata": {},
     "output_type": "execute_result"
    }
   ],
   "source": [
    "dtx.sample(10)"
   ]
  },
  {
   "cell_type": "code",
   "execution_count": 305,
   "metadata": {},
   "outputs": [],
   "source": [
    "## Creates Sentences for Embedding\n",
    "\n",
    "sentence=[]\n",
    "# for il in dtext2.sample(15,random_state=100).item_list_cln2.tolist()[:10]:\n",
    "for il in dtx.Judul2_no_stopwords.tolist():\n",
    "    il2=il.split(\" \")\n",
    "    sentence.append(il2)    "
   ]
  },
  {
   "cell_type": "code",
   "execution_count": 306,
   "metadata": {},
   "outputs": [],
   "source": [
    "## Creates Sentences for Embedding for MNCTV\n",
    "\n",
    "sentence_mnc=[]\n",
    "# for il in dtext2.sample(15,random_state=100).item_list_cln2.tolist()[:10]:\n",
    "for il in dtx[dtx[\"Saluran TV\"]==\"MNCTV\"].Judul2_ns_stem.tolist():\n",
    "    il2=il.split(\" \")\n",
    "    sentence_mnc.append(il2)    "
   ]
  },
  {
   "cell_type": "code",
   "execution_count": 307,
   "metadata": {},
   "outputs": [],
   "source": [
    "## Creates Sentences for Embedding for Indosiar\n",
    "\n",
    "sentence_indo=[]\n",
    "# for il in dtext2.sample(15,random_state=100).item_list_cln2.tolist()[:10]:\n",
    "for il in dtx[dtx[\"Saluran TV\"]==\"Indosiar\"].Judul2_ns_stem.tolist():\n",
    "    il2=il.split(\" \")\n",
    "    sentence_indo.append(il2)    "
   ]
  },
  {
   "cell_type": "code",
   "execution_count": 308,
   "metadata": {},
   "outputs": [
    {
     "data": {
      "text/plain": [
       "(131, 63)"
      ]
     },
     "execution_count": 308,
     "metadata": {},
     "output_type": "execute_result"
    }
   ],
   "source": [
    "len(sentence_indo),len(sentence_mnc)"
   ]
  },
  {
   "cell_type": "markdown",
   "metadata": {},
   "source": [
    "### Create embed from our sentences"
   ]
  },
  {
   "cell_type": "code",
   "execution_count": 309,
   "metadata": {},
   "outputs": [],
   "source": [
    "# get all words to be maps\n",
    "model_emb = Word2Vec(sentence,size=25,\n",
    "        window=8,min_count=1,workers=5)\n",
    "\n",
    "model_emb_mnc = Word2Vec(sentence_mnc,size=10,\n",
    "        window=5,min_count=1,workers=5)\n",
    "\n",
    "model_emb_indo = Word2Vec(sentence_indo,size=13,\n",
    "        window=5,min_count=1,workers=5)"
   ]
  },
  {
   "cell_type": "code",
   "execution_count": 310,
   "metadata": {},
   "outputs": [
    {
     "data": {
      "text/plain": [
       "(7918, 11340)"
      ]
     },
     "execution_count": 310,
     "metadata": {},
     "output_type": "execute_result"
    }
   ],
   "source": [
    "model_emb.train(sentence, total_examples=len(sentence), epochs=10)\n",
    "model_emb_mnc.train(sentence_mnc, total_examples=len(sentence_mnc), epochs=10)\n",
    "model_emb_indo.train(sentence_indo, total_examples=len(sentence_indo), epochs=10)"
   ]
  },
  {
   "cell_type": "code",
   "execution_count": 311,
   "metadata": {},
   "outputs": [],
   "source": [
    "# model_emb.wv.most_similar(positive=\"ibu\",topn=20)"
   ]
  },
  {
   "cell_type": "code",
   "execution_count": 312,
   "metadata": {},
   "outputs": [
    {
     "data": {
      "text/plain": [
       "(194, 131, 63)"
      ]
     },
     "execution_count": 312,
     "metadata": {},
     "output_type": "execute_result"
    }
   ],
   "source": [
    "model_emb.corpus_count,model_emb_indo.corpus_count,model_emb_mnc.corpus_count"
   ]
  },
  {
   "cell_type": "code",
   "execution_count": null,
   "metadata": {},
   "outputs": [],
   "source": []
  },
  {
   "cell_type": "code",
   "execution_count": 313,
   "metadata": {},
   "outputs": [],
   "source": [
    "wcount={}\n",
    "for word, vocab_obj in model_emb.wv.vocab.items():\n",
    "    wcount[word]=vocab_obj.count\n",
    "    \n",
    "wcount_indo={}\n",
    "for word, vocab_obj in model_emb_indo.wv.vocab.items():\n",
    "    wcount_indo[word]=vocab_obj.count\n",
    "    \n",
    "wcount_mnc={}\n",
    "for word, vocab_obj in model_emb_mnc.wv.vocab.items():\n",
    "    wcount_mnc[word]=vocab_obj.count"
   ]
  },
  {
   "cell_type": "code",
   "execution_count": 314,
   "metadata": {},
   "outputs": [],
   "source": [
    "wcount2=pd.Series(wcount)\n",
    "wcount2_indo=pd.Series(wcount_indo)\n",
    "wcount2_mnc=pd.Series(wcount_mnc)"
   ]
  },
  {
   "cell_type": "code",
   "execution_count": 315,
   "metadata": {},
   "outputs": [
    {
     "data": {
      "text/plain": [
       "<matplotlib.axes._subplots.AxesSubplot at 0x1a1fb114e0>"
      ]
     },
     "execution_count": 315,
     "metadata": {},
     "output_type": "execute_result"
    },
    {
     "data": {
      "image/png": "[encoded data removed]",
      "text/plain": [
       "<Figure size 504x648 with 1 Axes>"
      ]
     },
     "metadata": {},
     "output_type": "display_data"
    }
   ],
   "source": [
    "wcount2_indo.sort_values().tail(15).plot(kind=\"barh\",figsize=(7,9),title=\"Indosiar Most Word\",color=\"g\")"
   ]
  },
  {
   "cell_type": "code",
   "execution_count": 316,
   "metadata": {},
   "outputs": [
    {
     "data": {
      "text/plain": [
       "<matplotlib.axes._subplots.AxesSubplot at 0x1a1fa7f358>"
      ]
     },
     "execution_count": 316,
     "metadata": {},
     "output_type": "execute_result"
    },
    {
     "data": {
      "image/png": "[encoded data removed]",
      "text/plain": [
       "<Figure size 504x648 with 1 Axes>"
      ]
     },
     "metadata": {},
     "output_type": "display_data"
    }
   ],
   "source": [
    "wcount2_mnc.sort_values().tail(15).plot(kind=\"barh\",figsize=(7,9),title=\"MNC Most Word\",color=\"b\")"
   ]
  },
  {
   "cell_type": "code",
   "execution_count": null,
   "metadata": {},
   "outputs": [],
   "source": []
  },
  {
   "cell_type": "code",
   "execution_count": null,
   "metadata": {},
   "outputs": [],
   "source": []
  },
  {
   "cell_type": "code",
   "execution_count": 14,
   "metadata": {},
   "outputs": [
    {
     "data": {
      "text/plain": [
       "676"
      ]
     },
     "execution_count": 14,
     "metadata": {},
     "output_type": "execute_result"
    }
   ],
   "source": [
    "len(wcount2)"
   ]
  },
  {
   "cell_type": "code",
   "execution_count": 29,
   "metadata": {},
   "outputs": [],
   "source": [
    "## get top 300 less used words\n",
    "w_used=wcount2.sort_values(ascending=False)[-200:].index.tolist()"
   ]
  },
  {
   "cell_type": "code",
   "execution_count": 30,
   "metadata": {},
   "outputs": [
    {
     "data": {
      "text/plain": [
       "array(['paman', 'makan', 'berdiri', 'gagu', 'mendadak', 'anjing',\n",
       "       'diseren', 'toren', 'pemasung', 'judi', 'mesjid', 'misterius',\n",
       "       'bicara', 'coran', 'cor', 'ratapan', 'terdengar', 'umroh', 'belut',\n",
       "       'licin', 'menghindari', 'penjara', 'kepanasan', 'menggandakan',\n",
       "       'gagal', 'majikan', 'terobsesi', 'disambar', 'meteor', 'kasar',\n",
       "       'kotak', 'pemalak', 'memanjang', 'dadakan', 'tergoreng', 'bulat',\n",
       "       'menguning', 'catering', 'pemandi', 'semburan', 'terpental',\n",
       "       'sadis', 'perampok', 'kendara', 'menyiksa', 'pencemburu',\n",
       "       'penyegel', 'menipu', 'hasil', 'menafkahi', 'jariyah', 'terbalik',\n",
       "       'nisan', 'hutan', 'palak', 'preman', 'hisap', 'biro', 'sepasang',\n",
       "       'menerjang', 'warisan', 'merampas', 'celeng', 'perangkap',\n",
       "       'terputus', 'kafannya', 'amal', 'penebang', 'pemutus', 'kayu',\n",
       "       'tewas', 'investasi', 'minum', 'debu', 'tenggorokan', 'serigala',\n",
       "       'diinjak', 'peminta', 'sambar', 'tuanya', 'mencampakkan',\n",
       "       'formalin', 'buntung', 'tetimpa', 'bersisik', 'silaturahmi',\n",
       "       'erat', 'pengoplos', 'tengik', 'bolong', 'terpal', 'dibungkus',\n",
       "       'vaksin', 'pembuat', 'penuntut', 'manja', 'susu', 'harimau',\n",
       "       'terbang', 'dermawan', 'sok', 'deras', 'arus', 'penebar', 'korban',\n",
       "       'tanaman', 'perhiasan', 'merambat', 'sepatu', 'kerupuk',\n",
       "       'tersedot', 'berbekas', 'terpendam', 'pesantren', 'proyek',\n",
       "       'korupsi', 'kencang', 'terseret', 'pamakai', 'terlantarkan',\n",
       "       'maksiat', 'terangkat', 'penimbun', 'pasangan', 'bbm', 'remuk',\n",
       "       'pengelola', 'tinta', 'rawa', 'pengganda', 'karyawan', 'disungai',\n",
       "       'kelumpur', 'pezina', 'kiblat', 'menghadap', 'hancurkan', 'adukan',\n",
       "       'terjebur', 'tawon', 'ribuan', 'dibanjiri', 'timah', 'fiktif',\n",
       "       'menikahkan', 'hadapi', 'bencana', 'penjarahan', 'provokator',\n",
       "       'diikuti', 'iringan', 'berbohong', 'perempuan', 'lalat', 'telur',\n",
       "       'siksaan', 'luka', 'gentong', 'tenggelam', 'suamiku', 'rintangan',\n",
       "       'mahar', 'aneh', 'bensin', 'mengenaskan', 'pamer', 'jumawa',\n",
       "       'ternak', 'ilegal', 'penambang', 'topan', 'arisan', 'leher',\n",
       "       'kubangan', 'atap', 'ulang', 'isi', 'angkot', 'supir', 'tiang',\n",
       "       'tercebur', 'zat', 'keliling', 'kimia', 'hijau', 'buatan',\n",
       "       'pemanis', 'tekstil', 'pewarna', 'berbahan', 'cendol', 'ledakan',\n",
       "       'riya', 'terlindas', 'tertutup', 'beling', 'gadungan',\n",
       "       'tersangkut', 'jasadnya', 'keluarga'], dtype='<U12')"
      ]
     },
     "execution_count": 30,
     "metadata": {},
     "output_type": "execute_result"
    }
   ],
   "source": [
    "np.array(w_used)"
   ]
  },
  {
   "cell_type": "code",
   "execution_count": 31,
   "metadata": {},
   "outputs": [],
   "source": [
    "# save the embed\n",
    "model_emb.save(model_path+'azab_vocab2.bin')"
   ]
  },
  {
   "cell_type": "code",
   "execution_count": 32,
   "metadata": {},
   "outputs": [
    {
     "data": {
      "text/plain": [
       "<matplotlib.axes._subplots.AxesSubplot at 0x1a1da56b38>"
      ]
     },
     "execution_count": 32,
     "metadata": {},
     "output_type": "execute_result"
    },
    {
     "data": {
      "image/png": "[encoded data removed]",
      "text/plain": [
       "<Figure size 720x576 with 1 Axes>"
      ]
     },
     "metadata": {},
     "output_type": "display_data"
    }
   ],
   "source": [
    "wcount2.plot(kind=\"hist\",bins=100,figsize=(10,8), title=\"Word Count Distribution\")"
   ]
  },
  {
   "cell_type": "code",
   "execution_count": null,
   "metadata": {},
   "outputs": [],
   "source": []
  },
  {
   "cell_type": "markdown",
   "metadata": {},
   "source": [
    "### Visualize embed"
   ]
  },
  {
   "cell_type": "code",
   "execution_count": 33,
   "metadata": {},
   "outputs": [],
   "source": [
    "from sklearn.manifold import TSNE\n",
    "import random"
   ]
  },
  {
   "cell_type": "code",
   "execution_count": 34,
   "metadata": {},
   "outputs": [],
   "source": [
    "model_emb=Word2Vec.load(model_path+'azab_vocab2.bin')"
   ]
  },
  {
   "cell_type": "code",
   "execution_count": 35,
   "metadata": {},
   "outputs": [
    {
     "name": "stderr",
     "output_type": "stream",
     "text": [
      "/Users/alamhanz/anaconda/envs/py36/lib/python3.6/site-packages/gensim/matutils.py:737: FutureWarning: Conversion of the second argument of issubdtype from `int` to `np.signedinteger` is deprecated. In future, it will be treated as `np.int64 == np.dtype(int).type`.\n",
      "  if np.issubdtype(vec.dtype, np.int):\n"
     ]
    }
   ],
   "source": [
    "ww=[]\n",
    "wexp2=[]\n",
    "weig=[]\n",
    "for w0 in w_used:\n",
    "    w1=model_emb.wv.most_similar(positive=w0,topn=10)\n",
    "    ww+=[w[0] for w in w1]\n",
    "    weig+=[w[1] for w in w1]\n",
    "    wexp2+=[w0]*10"
   ]
  },
  {
   "cell_type": "code",
   "execution_count": 36,
   "metadata": {},
   "outputs": [
    {
     "name": "stderr",
     "output_type": "stream",
     "text": [
      "/Users/alamhanz/anaconda/envs/py36/lib/python3.6/site-packages/ipykernel/__main__.py:1: DeprecationWarning: Call to deprecated `__getitem__` (Method will be removed in 4.0.0, use self.wv.__getitem__() instead).\n",
      "  if __name__ == '__main__':\n"
     ]
    }
   ],
   "source": [
    "ww2=[model_emb[w] for w in ww]"
   ]
  },
  {
   "cell_type": "code",
   "execution_count": 37,
   "metadata": {},
   "outputs": [],
   "source": [
    "tsne_embds = TSNE(n_components=2).fit_transform(ww2)"
   ]
  },
  {
   "cell_type": "code",
   "execution_count": 38,
   "metadata": {},
   "outputs": [
    {
     "data": {
      "text/plain": [
       "2000"
      ]
     },
     "execution_count": 38,
     "metadata": {},
     "output_type": "execute_result"
    }
   ],
   "source": [
    "len(tsne_embds)"
   ]
  },
  {
   "cell_type": "code",
   "execution_count": 39,
   "metadata": {},
   "outputs": [],
   "source": [
    "dwe_exp=pd.DataFrame(tsne_embds,columns=['x1','x2'])\n",
    "dwe_exp[\"word\"]=ww\n",
    "dwe_exp[\"main_word\"]=wexp2\n",
    "dwe_exp[\"similar_score\"]=weig"
   ]
  },
  {
   "cell_type": "code",
   "execution_count": 40,
   "metadata": {},
   "outputs": [],
   "source": [
    "dwe_exp.to_csv(data_path+\"viz_embed.csv\",index=False)"
   ]
  },
  {
   "cell_type": "code",
   "execution_count": 41,
   "metadata": {},
   "outputs": [
    {
     "data": {
      "text/html": [
       "<div>\n",
       "<style scoped>\n",
       "    .dataframe tbody tr th:only-of-type {\n",
       "        vertical-align: middle;\n",
       "    }\n",
       "\n",
       "    .dataframe tbody tr th {\n",
       "        vertical-align: top;\n",
       "    }\n",
       "\n",
       "    .dataframe thead th {\n",
       "        text-align: right;\n",
       "    }\n",
       "</style>\n",
       "<table border=\"1\" class=\"dataframe\">\n",
       "  <thead>\n",
       "    <tr style=\"text-align: right;\">\n",
       "      <th></th>\n",
       "      <th>x1</th>\n",
       "      <th>x2</th>\n",
       "      <th>word</th>\n",
       "      <th>main_word</th>\n",
       "      <th>similar_score</th>\n",
       "    </tr>\n",
       "  </thead>\n",
       "  <tbody>\n",
       "    <tr>\n",
       "      <th>380</th>\n",
       "      <td>-43.375591</td>\n",
       "      <td>118.826149</td>\n",
       "      <td>tua</td>\n",
       "      <td>pemandi</td>\n",
       "      <td>0.734972</td>\n",
       "    </tr>\n",
       "    <tr>\n",
       "      <th>630</th>\n",
       "      <td>53.026245</td>\n",
       "      <td>81.143837</td>\n",
       "      <td>istri</td>\n",
       "      <td>perangkap</td>\n",
       "      <td>0.781839</td>\n",
       "    </tr>\n",
       "    <tr>\n",
       "      <th>1150</th>\n",
       "      <td>-7.465365</td>\n",
       "      <td>29.895977</td>\n",
       "      <td>perampas</td>\n",
       "      <td>korupsi</td>\n",
       "      <td>0.755298</td>\n",
       "    </tr>\n",
       "    <tr>\n",
       "      <th>1170</th>\n",
       "      <td>143.103546</td>\n",
       "      <td>-34.526543</td>\n",
       "      <td>kontraktor</td>\n",
       "      <td>terseret</td>\n",
       "      <td>0.720322</td>\n",
       "    </tr>\n",
       "    <tr>\n",
       "      <th>1190</th>\n",
       "      <td>45.068684</td>\n",
       "      <td>-61.539001</td>\n",
       "      <td>kafan</td>\n",
       "      <td>terlantarkan</td>\n",
       "      <td>0.713437</td>\n",
       "    </tr>\n",
       "    <tr>\n",
       "      <th>1370</th>\n",
       "      <td>157.741623</td>\n",
       "      <td>-5.850121</td>\n",
       "      <td>tinggalkan</td>\n",
       "      <td>adukan</td>\n",
       "      <td>0.706624</td>\n",
       "    </tr>\n",
       "    <tr>\n",
       "      <th>1430</th>\n",
       "      <td>-202.233109</td>\n",
       "      <td>80.618362</td>\n",
       "      <td>pernikahan</td>\n",
       "      <td>fiktif</td>\n",
       "      <td>0.767902</td>\n",
       "    </tr>\n",
       "  </tbody>\n",
       "</table>\n",
       "</div>"
      ],
      "text/plain": [
       "              x1          x2        word     main_word  similar_score\n",
       "380   -43.375591  118.826149         tua       pemandi       0.734972\n",
       "630    53.026245   81.143837       istri     perangkap       0.781839\n",
       "1150   -7.465365   29.895977    perampas       korupsi       0.755298\n",
       "1170  143.103546  -34.526543  kontraktor      terseret       0.720322\n",
       "1190   45.068684  -61.539001       kafan  terlantarkan       0.713437\n",
       "1370  157.741623   -5.850121  tinggalkan        adukan       0.706624\n",
       "1430 -202.233109   80.618362  pernikahan        fiktif       0.767902"
      ]
     },
     "execution_count": 41,
     "metadata": {},
     "output_type": "execute_result"
    }
   ],
   "source": [
    "dwe_exp[dwe_exp.similar_score>0.7]"
   ]
  },
  {
   "cell_type": "code",
   "execution_count": null,
   "metadata": {},
   "outputs": [],
   "source": []
  },
  {
   "cell_type": "markdown",
   "metadata": {},
   "source": [
    "### Embed use fast text"
   ]
  },
  {
   "cell_type": "code",
   "execution_count": 42,
   "metadata": {},
   "outputs": [],
   "source": [
    "# model_f = FastText.load_word2vec_format(model_path+'/id_f/id.vec')\n",
    "# embd_f= KeyedVectors.load_word2vec_format(model_path+'/id_f/id.vec')\n",
    "# embd_f.load_binary_data(model_path+'/id_f/id.bin')"
   ]
  },
  {
   "cell_type": "code",
   "execution_count": 43,
   "metadata": {},
   "outputs": [],
   "source": [
    "# dtx.head()"
   ]
  },
  {
   "cell_type": "code",
   "execution_count": 44,
   "metadata": {},
   "outputs": [],
   "source": [
    "# embd_f.wv.most_similar(positive=\"anakku\",topn=20)"
   ]
  },
  {
   "cell_type": "code",
   "execution_count": null,
   "metadata": {},
   "outputs": [],
   "source": []
  },
  {
   "cell_type": "markdown",
   "metadata": {},
   "source": [
    "### Analyze 1 (steps)"
   ]
  },
  {
   "cell_type": "code",
   "execution_count": 101,
   "metadata": {},
   "outputs": [],
   "source": [
    "# jenazah, mayat\n",
    "# liang lahat, lianglahat, kuburan, makam\n",
    "# keranda\n",
    "# mati"
   ]
  },
  {
   "cell_type": "code",
   "execution_count": 102,
   "metadata": {},
   "outputs": [],
   "source": [
    "# dtx.sample(100)"
   ]
  },
  {
   "cell_type": "code",
   "execution_count": 103,
   "metadata": {},
   "outputs": [],
   "source": [
    "dtx[\"mati\"]=dtx.Judul2.str.contains(\" mati \").astype(int)\n",
    "dtx[\"jenazah\"]=((dtx.Judul2.str.contains(\"jenazah\"))|(dtx.Judul2_ns_stem.str.contains(\"jasad\"))\n",
    "              |(dtx.Judul2.str.contains(\"mayat\"))).astype(int)\n",
    "dtx[\"kuburan\"]=((dtx.Judul2.str.contains(\"kuburan\"))|\n",
    "                (dtx.Judul2.str.contains(\"lianglahat\"))|\n",
    "                (dtx.Judul2.str.contains(\"liang lahat\"))|\n",
    "                (dtx.Judul2.str.contains(\"makam\"))).astype(int)\n",
    "dtx[\"keranda\"]=dtx.Judul2_ns_stem.str.contains(\"keranda\").astype(int)\n",
    "dtx[\"penderitaan\"]=(dtx[[\"mati\",\"mayat\",\"kuburan\",\"keranda\"]].sum(axis=1)==0).astype(int)"
   ]
  },
  {
   "cell_type": "code",
   "execution_count": 124,
   "metadata": {},
   "outputs": [
    {
     "data": {
      "text/html": [
       "<div>\n",
       "<style scoped>\n",
       "    .dataframe tbody tr th:only-of-type {\n",
       "        vertical-align: middle;\n",
       "    }\n",
       "\n",
       "    .dataframe tbody tr th {\n",
       "        vertical-align: top;\n",
       "    }\n",
       "\n",
       "    .dataframe thead th {\n",
       "        text-align: right;\n",
       "    }\n",
       "</style>\n",
       "<table border=\"1\" class=\"dataframe\">\n",
       "  <thead>\n",
       "    <tr style=\"text-align: right;\">\n",
       "      <th></th>\n",
       "      <th>Judul</th>\n",
       "      <th>Saluran TV</th>\n",
       "      <th>Judul2</th>\n",
       "      <th>Judul2_no_stopwords</th>\n",
       "      <th>Judul2_ns_stem</th>\n",
       "      <th>mati</th>\n",
       "      <th>mayat</th>\n",
       "      <th>kuburan</th>\n",
       "      <th>keranda</th>\n",
       "      <th>penderitaan</th>\n",
       "      <th>...</th>\n",
       "      <th>istri</th>\n",
       "      <th>wasiat</th>\n",
       "      <th>warisan</th>\n",
       "      <th>ortu</th>\n",
       "      <th>durhaka_ortu</th>\n",
       "      <th>len_txt</th>\n",
       "      <th>len_txt_ns</th>\n",
       "      <th>first_part</th>\n",
       "      <th>second_part</th>\n",
       "      <th>jenazah</th>\n",
       "    </tr>\n",
       "  </thead>\n",
       "  <tbody>\n",
       "    <tr>\n",
       "      <th>0</th>\n",
       "      <td>Azab Suami Penakluk Wanita</td>\n",
       "      <td>Indosiar</td>\n",
       "      <td>azab suami penakluk wanita</td>\n",
       "      <td>azab suami penakluk wanita</td>\n",
       "      <td>azab suami takluk wanita</td>\n",
       "      <td>0</td>\n",
       "      <td>0</td>\n",
       "      <td>0</td>\n",
       "      <td>0</td>\n",
       "      <td>1</td>\n",
       "      <td>...</td>\n",
       "      <td>0</td>\n",
       "      <td>0</td>\n",
       "      <td>0</td>\n",
       "      <td>0</td>\n",
       "      <td>0</td>\n",
       "      <td>4</td>\n",
       "      <td>4</td>\n",
       "      <td>azab suami</td>\n",
       "      <td>penakluk wanita</td>\n",
       "      <td>0</td>\n",
       "    </tr>\n",
       "    <tr>\n",
       "      <th>3</th>\n",
       "      <td>Akibat Mendzolimi Anak Yatim, Tubuh Bendahara ...</td>\n",
       "      <td>Indosiar</td>\n",
       "      <td>akibat mendzolimi anak yatim tubuh bendahara m...</td>\n",
       "      <td>akibat mendzolimi anak yatim tubuh bendahara m...</td>\n",
       "      <td>akibat dzolim anak yatim tubuh bendahara masji...</td>\n",
       "      <td>0</td>\n",
       "      <td>0</td>\n",
       "      <td>0</td>\n",
       "      <td>0</td>\n",
       "      <td>1</td>\n",
       "      <td>...</td>\n",
       "      <td>0</td>\n",
       "      <td>0</td>\n",
       "      <td>0</td>\n",
       "      <td>0</td>\n",
       "      <td>1</td>\n",
       "      <td>9</td>\n",
       "      <td>9</td>\n",
       "      <td>akibat mendzolimi anak yatim</td>\n",
       "      <td>tubuh bendahara masjid dihisap bumi</td>\n",
       "      <td>0</td>\n",
       "    </tr>\n",
       "    <tr>\n",
       "      <th>4</th>\n",
       "      <td>Anakku Ditolak Bumi Karena Hidup penuh Dosa</td>\n",
       "      <td>Indosiar</td>\n",
       "      <td>anakku ditolak bumi karena hidup penuh dosa</td>\n",
       "      <td>anakku ditolak bumi hidup penuh dosa</td>\n",
       "      <td>anak tolak bumi hidup penuh dosa</td>\n",
       "      <td>0</td>\n",
       "      <td>0</td>\n",
       "      <td>0</td>\n",
       "      <td>0</td>\n",
       "      <td>1</td>\n",
       "      <td>...</td>\n",
       "      <td>0</td>\n",
       "      <td>0</td>\n",
       "      <td>0</td>\n",
       "      <td>0</td>\n",
       "      <td>1</td>\n",
       "      <td>7</td>\n",
       "      <td>6</td>\n",
       "      <td>anakku ditolak bumi</td>\n",
       "      <td>hidup penuh dosa</td>\n",
       "      <td>0</td>\n",
       "    </tr>\n",
       "    <tr>\n",
       "      <th>5</th>\n",
       "      <td>Pencuri Yang Kehilangan Tangan Saat Akhir Haya...</td>\n",
       "      <td>Indosiar</td>\n",
       "      <td>pencuri yang kehilangan tangan saat akhir haya...</td>\n",
       "      <td>pencuri kehilangan tangan hayatnya</td>\n",
       "      <td>curi hilang tangan hayat</td>\n",
       "      <td>0</td>\n",
       "      <td>0</td>\n",
       "      <td>0</td>\n",
       "      <td>0</td>\n",
       "      <td>1</td>\n",
       "      <td>...</td>\n",
       "      <td>0</td>\n",
       "      <td>0</td>\n",
       "      <td>0</td>\n",
       "      <td>0</td>\n",
       "      <td>0</td>\n",
       "      <td>7</td>\n",
       "      <td>4</td>\n",
       "      <td>pencuri kehilangan</td>\n",
       "      <td>tangan hayatnya</td>\n",
       "      <td>0</td>\n",
       "    </tr>\n",
       "    <tr>\n",
       "      <th>6</th>\n",
       "      <td>Tangan dan Kaki Borokan Karena Mencuri Uang Or...</td>\n",
       "      <td>Indosiar</td>\n",
       "      <td>tangan dan kaki borokan karena mencuri uang or...</td>\n",
       "      <td>tangan kaki borokan mencuri uang orangtua</td>\n",
       "      <td>tangan kaki borok curi uang orangtua</td>\n",
       "      <td>0</td>\n",
       "      <td>0</td>\n",
       "      <td>0</td>\n",
       "      <td>0</td>\n",
       "      <td>1</td>\n",
       "      <td>...</td>\n",
       "      <td>0</td>\n",
       "      <td>0</td>\n",
       "      <td>0</td>\n",
       "      <td>1</td>\n",
       "      <td>1</td>\n",
       "      <td>8</td>\n",
       "      <td>6</td>\n",
       "      <td>tangan kaki borokan</td>\n",
       "      <td>mencuri uang orangtua</td>\n",
       "      <td>0</td>\n",
       "    </tr>\n",
       "    <tr>\n",
       "      <th>13</th>\n",
       "      <td>Mulut Bagai Terbakar Menjelang Ajal Si Penghin...</td>\n",
       "      <td>Indosiar</td>\n",
       "      <td>mulut bagai terbakar menjelang ajal si penghin...</td>\n",
       "      <td>mulut terbakar menjelang ajal si penghindar hu...</td>\n",
       "      <td>mulut bakar jelang ajal si hindar hutang</td>\n",
       "      <td>0</td>\n",
       "      <td>0</td>\n",
       "      <td>0</td>\n",
       "      <td>0</td>\n",
       "      <td>1</td>\n",
       "      <td>...</td>\n",
       "      <td>0</td>\n",
       "      <td>0</td>\n",
       "      <td>0</td>\n",
       "      <td>0</td>\n",
       "      <td>0</td>\n",
       "      <td>8</td>\n",
       "      <td>7</td>\n",
       "      <td>mulut terbakar menjelang</td>\n",
       "      <td>ajal si penghindar hutang</td>\n",
       "      <td>0</td>\n",
       "    </tr>\n",
       "    <tr>\n",
       "      <th>22</th>\n",
       "      <td>Akibat Main Jimat, Si Musyirik Disiksa Di Akhirat</td>\n",
       "      <td>Indosiar</td>\n",
       "      <td>akibat main jimat si musyirik disiksa di akhirat</td>\n",
       "      <td>akibat main jimat si musyirik disiksa akhirat</td>\n",
       "      <td>akibat main jimat si musyirik siksa akhirat</td>\n",
       "      <td>0</td>\n",
       "      <td>0</td>\n",
       "      <td>0</td>\n",
       "      <td>0</td>\n",
       "      <td>1</td>\n",
       "      <td>...</td>\n",
       "      <td>0</td>\n",
       "      <td>0</td>\n",
       "      <td>0</td>\n",
       "      <td>0</td>\n",
       "      <td>0</td>\n",
       "      <td>8</td>\n",
       "      <td>7</td>\n",
       "      <td>akibat main jimat</td>\n",
       "      <td>si musyirik disiksa akhirat</td>\n",
       "      <td>0</td>\n",
       "    </tr>\n",
       "    <tr>\n",
       "      <th>28</th>\n",
       "      <td>Maut dan Siksa Menjemput Sang Istri Durhaka</td>\n",
       "      <td>Indosiar</td>\n",
       "      <td>maut dan siksa menjemput sang istri durhaka</td>\n",
       "      <td>maut siksa menjemput sang istri durhaka</td>\n",
       "      <td>maut siksa jemput sang istri durhaka</td>\n",
       "      <td>0</td>\n",
       "      <td>0</td>\n",
       "      <td>0</td>\n",
       "      <td>0</td>\n",
       "      <td>1</td>\n",
       "      <td>...</td>\n",
       "      <td>1</td>\n",
       "      <td>0</td>\n",
       "      <td>0</td>\n",
       "      <td>0</td>\n",
       "      <td>0</td>\n",
       "      <td>7</td>\n",
       "      <td>6</td>\n",
       "      <td>maut siksa menjemput</td>\n",
       "      <td>sang istri durhaka</td>\n",
       "      <td>0</td>\n",
       "    </tr>\n",
       "    <tr>\n",
       "      <th>34</th>\n",
       "      <td>Akibat Tak Mengakui Anak Kandung, Mata Bagai D...</td>\n",
       "      <td>Indosiar</td>\n",
       "      <td>akibat tak mengakui anak kandung mata bagai di...</td>\n",
       "      <td>akibat mengakui anak kandung mata ditusuk seri...</td>\n",
       "      <td>akibat aku anak kandung mata tusuk ribu jarum</td>\n",
       "      <td>0</td>\n",
       "      <td>0</td>\n",
       "      <td>0</td>\n",
       "      <td>0</td>\n",
       "      <td>1</td>\n",
       "      <td>...</td>\n",
       "      <td>0</td>\n",
       "      <td>0</td>\n",
       "      <td>0</td>\n",
       "      <td>0</td>\n",
       "      <td>1</td>\n",
       "      <td>10</td>\n",
       "      <td>8</td>\n",
       "      <td>akibat mengakui anak kandung</td>\n",
       "      <td>mata ditusuk seribu jarum</td>\n",
       "      <td>0</td>\n",
       "    </tr>\n",
       "    <tr>\n",
       "      <th>36</th>\n",
       "      <td>Mencuri Sumbangan Masjid, Tubuh Terbelenggu Semen</td>\n",
       "      <td>Indosiar</td>\n",
       "      <td>mencuri sumbangan masjid tubuh terbelenggu semen</td>\n",
       "      <td>mencuri sumbangan masjid tubuh terbelenggu semen</td>\n",
       "      <td>curi sumbang masjid tubuh belenggu semen</td>\n",
       "      <td>0</td>\n",
       "      <td>0</td>\n",
       "      <td>0</td>\n",
       "      <td>0</td>\n",
       "      <td>1</td>\n",
       "      <td>...</td>\n",
       "      <td>0</td>\n",
       "      <td>0</td>\n",
       "      <td>0</td>\n",
       "      <td>0</td>\n",
       "      <td>0</td>\n",
       "      <td>6</td>\n",
       "      <td>6</td>\n",
       "      <td>mencuri sumbangan masjid</td>\n",
       "      <td>tubuh terbelenggu semen</td>\n",
       "      <td>0</td>\n",
       "    </tr>\n",
       "    <tr>\n",
       "      <th>43</th>\n",
       "      <td>Tak Pernah Bersyukur ,Seorang Gadis Kulitnya K...</td>\n",
       "      <td>Indosiar</td>\n",
       "      <td>tak pernah bersyukur  seorang gadis kulitnya k...</td>\n",
       "      <td>bersyukur gadis kulitnya keriput meninggal dip...</td>\n",
       "      <td>syukur gadis kulit keriput tinggal penuh bisul</td>\n",
       "      <td>0</td>\n",
       "      <td>0</td>\n",
       "      <td>0</td>\n",
       "      <td>0</td>\n",
       "      <td>1</td>\n",
       "      <td>...</td>\n",
       "      <td>0</td>\n",
       "      <td>0</td>\n",
       "      <td>0</td>\n",
       "      <td>0</td>\n",
       "      <td>0</td>\n",
       "      <td>12</td>\n",
       "      <td>7</td>\n",
       "      <td>bersyukur gadis kulitnya</td>\n",
       "      <td>keriput meninggal dipenuhi bisul</td>\n",
       "      <td>0</td>\n",
       "    </tr>\n",
       "    <tr>\n",
       "      <th>45</th>\n",
       "      <td>Tangan Membusuk Menjelang Ajal Si Penadah Bara...</td>\n",
       "      <td>Indosiar</td>\n",
       "      <td>tangan membusuk menjelang ajal si penadah bara...</td>\n",
       "      <td>tangan membusuk menjelang ajal si penadah bara...</td>\n",
       "      <td>tangan busuk jelang ajal si tadah barang curi</td>\n",
       "      <td>0</td>\n",
       "      <td>0</td>\n",
       "      <td>0</td>\n",
       "      <td>0</td>\n",
       "      <td>1</td>\n",
       "      <td>...</td>\n",
       "      <td>0</td>\n",
       "      <td>0</td>\n",
       "      <td>0</td>\n",
       "      <td>0</td>\n",
       "      <td>0</td>\n",
       "      <td>8</td>\n",
       "      <td>8</td>\n",
       "      <td>tangan membusuk menjelang ajal</td>\n",
       "      <td>si penadah barang curian</td>\n",
       "      <td>0</td>\n",
       "    </tr>\n",
       "    <tr>\n",
       "      <th>55</th>\n",
       "      <td>Puluhan Kilat dan Petir Menyambar Tubuh Si Pen...</td>\n",
       "      <td>Indosiar</td>\n",
       "      <td>puluhan kilat dan petir menyambar tubuh si pen...</td>\n",
       "      <td>puluhan kilat petir menyambar tubuh si pencuri...</td>\n",
       "      <td>puluh kilat petir sambar tubuh si curi listrik...</td>\n",
       "      <td>0</td>\n",
       "      <td>0</td>\n",
       "      <td>0</td>\n",
       "      <td>0</td>\n",
       "      <td>1</td>\n",
       "      <td>...</td>\n",
       "      <td>1</td>\n",
       "      <td>0</td>\n",
       "      <td>0</td>\n",
       "      <td>0</td>\n",
       "      <td>0</td>\n",
       "      <td>11</td>\n",
       "      <td>9</td>\n",
       "      <td>puluhan kilat petir menyambar</td>\n",
       "      <td>tubuh si pencuri listrik culas</td>\n",
       "      <td>0</td>\n",
       "    </tr>\n",
       "    <tr>\n",
       "      <th>57</th>\n",
       "      <td>Pemalsu Kosmetik Terkubur Bersama Pohon Besar ...</td>\n",
       "      <td>Indosiar</td>\n",
       "      <td>pemalsu kosmetik terkubur bersama pohon besar ...</td>\n",
       "      <td>pemalsu kosmetik terkubur pohon asap</td>\n",
       "      <td>palsu kosmetik kubur pohon asap</td>\n",
       "      <td>0</td>\n",
       "      <td>0</td>\n",
       "      <td>0</td>\n",
       "      <td>0</td>\n",
       "      <td>1</td>\n",
       "      <td>...</td>\n",
       "      <td>0</td>\n",
       "      <td>0</td>\n",
       "      <td>0</td>\n",
       "      <td>0</td>\n",
       "      <td>0</td>\n",
       "      <td>9</td>\n",
       "      <td>5</td>\n",
       "      <td>pemalsu kosmetik</td>\n",
       "      <td>terkubur pohon asap</td>\n",
       "      <td>0</td>\n",
       "    </tr>\n",
       "    <tr>\n",
       "      <th>66</th>\n",
       "      <td>Akibat Menyia Nyiakan Suami dan Anak, Istri Te...</td>\n",
       "      <td>Indosiar</td>\n",
       "      <td>akibat menyia nyiakan suami dan anak istri ter...</td>\n",
       "      <td>akibat menyia nyiakan suami anak istri tersiks...</td>\n",
       "      <td>akibat sia nyiakan suami anak istri siksa kubu...</td>\n",
       "      <td>0</td>\n",
       "      <td>0</td>\n",
       "      <td>0</td>\n",
       "      <td>0</td>\n",
       "      <td>1</td>\n",
       "      <td>...</td>\n",
       "      <td>1</td>\n",
       "      <td>0</td>\n",
       "      <td>0</td>\n",
       "      <td>0</td>\n",
       "      <td>0</td>\n",
       "      <td>13</td>\n",
       "      <td>12</td>\n",
       "      <td>akibat menyia nyiakan suami anak istri</td>\n",
       "      <td>tersiksa terkubur hidup hidup menjelang ajalnya</td>\n",
       "      <td>0</td>\n",
       "    </tr>\n",
       "    <tr>\n",
       "      <th>89</th>\n",
       "      <td>Terjebak Di Dalam Sumur Tua Dan Kakinya Buntun...</td>\n",
       "      <td>Indosiar</td>\n",
       "      <td>terjebak di dalam sumur tua dan kakinya buntun...</td>\n",
       "      <td>terjebak sumur tua kakinya buntung akibat menj...</td>\n",
       "      <td>jebak sumur tua kaki buntung akibat jual formalin</td>\n",
       "      <td>0</td>\n",
       "      <td>0</td>\n",
       "      <td>0</td>\n",
       "      <td>0</td>\n",
       "      <td>1</td>\n",
       "      <td>...</td>\n",
       "      <td>0</td>\n",
       "      <td>0</td>\n",
       "      <td>0</td>\n",
       "      <td>0</td>\n",
       "      <td>0</td>\n",
       "      <td>12</td>\n",
       "      <td>8</td>\n",
       "      <td>terjebak sumur tua kakinya</td>\n",
       "      <td>buntung akibat menjual formalin</td>\n",
       "      <td>0</td>\n",
       "    </tr>\n",
       "    <tr>\n",
       "      <th>92</th>\n",
       "      <td>Tenggorokan Terasa Terbakar dan Hujan Debu, Sa...</td>\n",
       "      <td>Indosiar</td>\n",
       "      <td>tenggorokan terasa terbakar dan hujan debu san...</td>\n",
       "      <td>tenggorokan terbakar hujan debu sang penjual a...</td>\n",
       "      <td>tenggorok bakar hujan debu sang jual air minum...</td>\n",
       "      <td>0</td>\n",
       "      <td>0</td>\n",
       "      <td>0</td>\n",
       "      <td>0</td>\n",
       "      <td>1</td>\n",
       "      <td>...</td>\n",
       "      <td>0</td>\n",
       "      <td>0</td>\n",
       "      <td>0</td>\n",
       "      <td>0</td>\n",
       "      <td>0</td>\n",
       "      <td>11</td>\n",
       "      <td>9</td>\n",
       "      <td>tenggorokan terbakar hujan debu</td>\n",
       "      <td>sang penjual air minum dzalim</td>\n",
       "      <td>0</td>\n",
       "    </tr>\n",
       "    <tr>\n",
       "      <th>93</th>\n",
       "      <td>Penipu Investasi Bodong Yang Kakinya Membengka...</td>\n",
       "      <td>Indosiar</td>\n",
       "      <td>penipu investasi bodong yang kakinya membengka...</td>\n",
       "      <td>penipu investasi bodong kakinya membengkak tew...</td>\n",
       "      <td>tipu investasi bodong kaki bengkak tewas mobil...</td>\n",
       "      <td>0</td>\n",
       "      <td>0</td>\n",
       "      <td>0</td>\n",
       "      <td>0</td>\n",
       "      <td>1</td>\n",
       "      <td>...</td>\n",
       "      <td>0</td>\n",
       "      <td>0</td>\n",
       "      <td>0</td>\n",
       "      <td>0</td>\n",
       "      <td>0</td>\n",
       "      <td>16</td>\n",
       "      <td>10</td>\n",
       "      <td>penipu investasi bodong kakinya membengkak</td>\n",
       "      <td>tewas mobil jatuh jurang terbakar</td>\n",
       "      <td>0</td>\n",
       "    </tr>\n",
       "    <tr>\n",
       "      <th>135</th>\n",
       "      <td>Si Panjang Tangan Dzolim, Saat Meninggal Gelan...</td>\n",
       "      <td>MNCTV</td>\n",
       "      <td>si panjang tangan dzolim saat meninggal gelang...</td>\n",
       "      <td>si tangan dzolim meninggal gelang curiannya su...</td>\n",
       "      <td>si tangan dzolim tinggal gelang curi susah lepas</td>\n",
       "      <td>0</td>\n",
       "      <td>0</td>\n",
       "      <td>0</td>\n",
       "      <td>0</td>\n",
       "      <td>1</td>\n",
       "      <td>...</td>\n",
       "      <td>0</td>\n",
       "      <td>0</td>\n",
       "      <td>0</td>\n",
       "      <td>0</td>\n",
       "      <td>0</td>\n",
       "      <td>10</td>\n",
       "      <td>8</td>\n",
       "      <td>si tangan dzolim meninggal</td>\n",
       "      <td>gelang curiannya susah dilepas</td>\n",
       "      <td>0</td>\n",
       "    </tr>\n",
       "    <tr>\n",
       "      <th>138</th>\n",
       "      <td>Pedagang Curang, Saat Sekarat Mendengkur Menye...</td>\n",
       "      <td>MNCTV</td>\n",
       "      <td>pedagang curang saat sekarat mendengkur menyer...</td>\n",
       "      <td>pedagang curang sekarat mendengkur menyerupai ...</td>\n",
       "      <td>dagang curang sekarat dengkur rupa hewan</td>\n",
       "      <td>0</td>\n",
       "      <td>0</td>\n",
       "      <td>0</td>\n",
       "      <td>0</td>\n",
       "      <td>1</td>\n",
       "      <td>...</td>\n",
       "      <td>0</td>\n",
       "      <td>0</td>\n",
       "      <td>0</td>\n",
       "      <td>0</td>\n",
       "      <td>0</td>\n",
       "      <td>7</td>\n",
       "      <td>6</td>\n",
       "      <td>pedagang curang sekarat</td>\n",
       "      <td>mendengkur menyerupai hewan</td>\n",
       "      <td>0</td>\n",
       "    </tr>\n",
       "    <tr>\n",
       "      <th>139</th>\n",
       "      <td>Kaya Karena Pesugihan Tersiksa Saat Sakaratul ...</td>\n",
       "      <td>MNCTV</td>\n",
       "      <td>kaya karena pesugihan tersiksa saat sakaratul ...</td>\n",
       "      <td>kaya pesugihan tersiksa sakaratul maut</td>\n",
       "      <td>kaya sugih siksa sakaratul maut</td>\n",
       "      <td>0</td>\n",
       "      <td>0</td>\n",
       "      <td>0</td>\n",
       "      <td>0</td>\n",
       "      <td>1</td>\n",
       "      <td>...</td>\n",
       "      <td>0</td>\n",
       "      <td>0</td>\n",
       "      <td>0</td>\n",
       "      <td>0</td>\n",
       "      <td>0</td>\n",
       "      <td>7</td>\n",
       "      <td>5</td>\n",
       "      <td>kaya pesugihan</td>\n",
       "      <td>tersiksa sakaratul maut</td>\n",
       "      <td>0</td>\n",
       "    </tr>\n",
       "    <tr>\n",
       "      <th>153</th>\n",
       "      <td>Adzab Pria Menjual Tanah Yayasan, Liang Kuburn...</td>\n",
       "      <td>MNCTV</td>\n",
       "      <td>adzab pria menjual tanah yayasan liang kuburny...</td>\n",
       "      <td>adzab pria menjual tanah yayasan liang kuburny...</td>\n",
       "      <td>adzab pria jual tanah yayasan liang kubur ledak</td>\n",
       "      <td>0</td>\n",
       "      <td>0</td>\n",
       "      <td>0</td>\n",
       "      <td>0</td>\n",
       "      <td>1</td>\n",
       "      <td>...</td>\n",
       "      <td>0</td>\n",
       "      <td>0</td>\n",
       "      <td>0</td>\n",
       "      <td>0</td>\n",
       "      <td>0</td>\n",
       "      <td>8</td>\n",
       "      <td>8</td>\n",
       "      <td>adzab pria menjual tanah</td>\n",
       "      <td>yayasan liang kuburnya meledak</td>\n",
       "      <td>0</td>\n",
       "    </tr>\n",
       "    <tr>\n",
       "      <th>156</th>\n",
       "      <td>Akibat Merebut Suami Kakak, Menjelang Ajal Tub...</td>\n",
       "      <td>MNCTV</td>\n",
       "      <td>akibat merebut suami kakak menjelang ajal tubu...</td>\n",
       "      <td>akibat merebut suami kakak menjelang ajal tubu...</td>\n",
       "      <td>akibat rebut suami kakak jelang ajal tubuh gat...</td>\n",
       "      <td>0</td>\n",
       "      <td>0</td>\n",
       "      <td>0</td>\n",
       "      <td>0</td>\n",
       "      <td>1</td>\n",
       "      <td>...</td>\n",
       "      <td>0</td>\n",
       "      <td>0</td>\n",
       "      <td>0</td>\n",
       "      <td>0</td>\n",
       "      <td>0</td>\n",
       "      <td>11</td>\n",
       "      <td>11</td>\n",
       "      <td>akibat merebut suami kakak menjelang</td>\n",
       "      <td>ajal tubuh gatal gatal perut membuncit</td>\n",
       "      <td>0</td>\n",
       "    </tr>\n",
       "    <tr>\n",
       "      <th>162</th>\n",
       "      <td>Susah Melahirkan Karena Durhaka, Saat Pengubur...</td>\n",
       "      <td>MNCTV</td>\n",
       "      <td>susah melahirkan karena durhaka saat pengubura...</td>\n",
       "      <td>susah melahirkan durhaka penguburan terdngar s...</td>\n",
       "      <td>susah lahir durhaka kubur terdngar suara miste...</td>\n",
       "      <td>0</td>\n",
       "      <td>0</td>\n",
       "      <td>0</td>\n",
       "      <td>0</td>\n",
       "      <td>1</td>\n",
       "      <td>...</td>\n",
       "      <td>0</td>\n",
       "      <td>0</td>\n",
       "      <td>0</td>\n",
       "      <td>0</td>\n",
       "      <td>1</td>\n",
       "      <td>9</td>\n",
       "      <td>7</td>\n",
       "      <td>susah melahirkan durhaka</td>\n",
       "      <td>penguburan terdngar suara misterius</td>\n",
       "      <td>0</td>\n",
       "    </tr>\n",
       "    <tr>\n",
       "      <th>189</th>\n",
       "      <td>Makan Uang Sumbangan Masjid! Bendahara Dzolim ...</td>\n",
       "      <td>MNCTV</td>\n",
       "      <td>makan uang sumbangan masjid bendahara dzolim t...</td>\n",
       "      <td>makan uang sumbangan masjid bendahara dzolim t...</td>\n",
       "      <td>makan uang sumbang masjid bendahara dzolim sam...</td>\n",
       "      <td>0</td>\n",
       "      <td>0</td>\n",
       "      <td>0</td>\n",
       "      <td>0</td>\n",
       "      <td>1</td>\n",
       "      <td>...</td>\n",
       "      <td>0</td>\n",
       "      <td>0</td>\n",
       "      <td>0</td>\n",
       "      <td>0</td>\n",
       "      <td>0</td>\n",
       "      <td>8</td>\n",
       "      <td>8</td>\n",
       "      <td>makan uang sumbangan masjid</td>\n",
       "      <td>bendahara dzolim tersambar petir</td>\n",
       "      <td>0</td>\n",
       "    </tr>\n",
       "  </tbody>\n",
       "</table>\n",
       "<p>25 rows × 27 columns</p>\n",
       "</div>"
      ],
      "text/plain": [
       "                                                 Judul Saluran TV  \\\n",
       "0                           Azab Suami Penakluk Wanita   Indosiar   \n",
       "3    Akibat Mendzolimi Anak Yatim, Tubuh Bendahara ...   Indosiar   \n",
       "4          Anakku Ditolak Bumi Karena Hidup penuh Dosa   Indosiar   \n",
       "5    Pencuri Yang Kehilangan Tangan Saat Akhir Haya...   Indosiar   \n",
       "6    Tangan dan Kaki Borokan Karena Mencuri Uang Or...   Indosiar   \n",
       "13   Mulut Bagai Terbakar Menjelang Ajal Si Penghin...   Indosiar   \n",
       "22   Akibat Main Jimat, Si Musyirik Disiksa Di Akhirat   Indosiar   \n",
       "28         Maut dan Siksa Menjemput Sang Istri Durhaka   Indosiar   \n",
       "34   Akibat Tak Mengakui Anak Kandung, Mata Bagai D...   Indosiar   \n",
       "36   Mencuri Sumbangan Masjid, Tubuh Terbelenggu Semen   Indosiar   \n",
       "43   Tak Pernah Bersyukur ,Seorang Gadis Kulitnya K...   Indosiar   \n",
       "45   Tangan Membusuk Menjelang Ajal Si Penadah Bara...   Indosiar   \n",
       "55   Puluhan Kilat dan Petir Menyambar Tubuh Si Pen...   Indosiar   \n",
       "57   Pemalsu Kosmetik Terkubur Bersama Pohon Besar ...   Indosiar   \n",
       "66   Akibat Menyia Nyiakan Suami dan Anak, Istri Te...   Indosiar   \n",
       "89   Terjebak Di Dalam Sumur Tua Dan Kakinya Buntun...   Indosiar   \n",
       "92   Tenggorokan Terasa Terbakar dan Hujan Debu, Sa...   Indosiar   \n",
       "93   Penipu Investasi Bodong Yang Kakinya Membengka...   Indosiar   \n",
       "135  Si Panjang Tangan Dzolim, Saat Meninggal Gelan...      MNCTV   \n",
       "138  Pedagang Curang, Saat Sekarat Mendengkur Menye...      MNCTV   \n",
       "139  Kaya Karena Pesugihan Tersiksa Saat Sakaratul ...      MNCTV   \n",
       "153  Adzab Pria Menjual Tanah Yayasan, Liang Kuburn...      MNCTV   \n",
       "156  Akibat Merebut Suami Kakak, Menjelang Ajal Tub...      MNCTV   \n",
       "162  Susah Melahirkan Karena Durhaka, Saat Pengubur...      MNCTV   \n",
       "189  Makan Uang Sumbangan Masjid! Bendahara Dzolim ...      MNCTV   \n",
       "\n",
       "                                                Judul2  \\\n",
       "0                           azab suami penakluk wanita   \n",
       "3    akibat mendzolimi anak yatim tubuh bendahara m...   \n",
       "4          anakku ditolak bumi karena hidup penuh dosa   \n",
       "5    pencuri yang kehilangan tangan saat akhir haya...   \n",
       "6    tangan dan kaki borokan karena mencuri uang or...   \n",
       "13   mulut bagai terbakar menjelang ajal si penghin...   \n",
       "22    akibat main jimat si musyirik disiksa di akhirat   \n",
       "28         maut dan siksa menjemput sang istri durhaka   \n",
       "34   akibat tak mengakui anak kandung mata bagai di...   \n",
       "36    mencuri sumbangan masjid tubuh terbelenggu semen   \n",
       "43   tak pernah bersyukur  seorang gadis kulitnya k...   \n",
       "45   tangan membusuk menjelang ajal si penadah bara...   \n",
       "55   puluhan kilat dan petir menyambar tubuh si pen...   \n",
       "57   pemalsu kosmetik terkubur bersama pohon besar ...   \n",
       "66   akibat menyia nyiakan suami dan anak istri ter...   \n",
       "89   terjebak di dalam sumur tua dan kakinya buntun...   \n",
       "92   tenggorokan terasa terbakar dan hujan debu san...   \n",
       "93   penipu investasi bodong yang kakinya membengka...   \n",
       "135  si panjang tangan dzolim saat meninggal gelang...   \n",
       "138  pedagang curang saat sekarat mendengkur menyer...   \n",
       "139  kaya karena pesugihan tersiksa saat sakaratul ...   \n",
       "153  adzab pria menjual tanah yayasan liang kuburny...   \n",
       "156  akibat merebut suami kakak menjelang ajal tubu...   \n",
       "162  susah melahirkan karena durhaka saat pengubura...   \n",
       "189  makan uang sumbangan masjid bendahara dzolim t...   \n",
       "\n",
       "                                   Judul2_no_stopwords  \\\n",
       "0                           azab suami penakluk wanita   \n",
       "3    akibat mendzolimi anak yatim tubuh bendahara m...   \n",
       "4                 anakku ditolak bumi hidup penuh dosa   \n",
       "5                   pencuri kehilangan tangan hayatnya   \n",
       "6            tangan kaki borokan mencuri uang orangtua   \n",
       "13   mulut terbakar menjelang ajal si penghindar hu...   \n",
       "22       akibat main jimat si musyirik disiksa akhirat   \n",
       "28             maut siksa menjemput sang istri durhaka   \n",
       "34   akibat mengakui anak kandung mata ditusuk seri...   \n",
       "36    mencuri sumbangan masjid tubuh terbelenggu semen   \n",
       "43   bersyukur gadis kulitnya keriput meninggal dip...   \n",
       "45   tangan membusuk menjelang ajal si penadah bara...   \n",
       "55   puluhan kilat petir menyambar tubuh si pencuri...   \n",
       "57                pemalsu kosmetik terkubur pohon asap   \n",
       "66   akibat menyia nyiakan suami anak istri tersiks...   \n",
       "89   terjebak sumur tua kakinya buntung akibat menj...   \n",
       "92   tenggorokan terbakar hujan debu sang penjual a...   \n",
       "93   penipu investasi bodong kakinya membengkak tew...   \n",
       "135  si tangan dzolim meninggal gelang curiannya su...   \n",
       "138  pedagang curang sekarat mendengkur menyerupai ...   \n",
       "139             kaya pesugihan tersiksa sakaratul maut   \n",
       "153  adzab pria menjual tanah yayasan liang kuburny...   \n",
       "156  akibat merebut suami kakak menjelang ajal tubu...   \n",
       "162  susah melahirkan durhaka penguburan terdngar s...   \n",
       "189  makan uang sumbangan masjid bendahara dzolim t...   \n",
       "\n",
       "                                        Judul2_ns_stem  mati  mayat  kuburan  \\\n",
       "0                             azab suami takluk wanita     0      0        0   \n",
       "3    akibat dzolim anak yatim tubuh bendahara masji...     0      0        0   \n",
       "4                     anak tolak bumi hidup penuh dosa     0      0        0   \n",
       "5                             curi hilang tangan hayat     0      0        0   \n",
       "6                 tangan kaki borok curi uang orangtua     0      0        0   \n",
       "13            mulut bakar jelang ajal si hindar hutang     0      0        0   \n",
       "22         akibat main jimat si musyirik siksa akhirat     0      0        0   \n",
       "28                maut siksa jemput sang istri durhaka     0      0        0   \n",
       "34       akibat aku anak kandung mata tusuk ribu jarum     0      0        0   \n",
       "36            curi sumbang masjid tubuh belenggu semen     0      0        0   \n",
       "43      syukur gadis kulit keriput tinggal penuh bisul     0      0        0   \n",
       "45       tangan busuk jelang ajal si tadah barang curi     0      0        0   \n",
       "55   puluh kilat petir sambar tubuh si curi listrik...     0      0        0   \n",
       "57                     palsu kosmetik kubur pohon asap     0      0        0   \n",
       "66   akibat sia nyiakan suami anak istri siksa kubu...     0      0        0   \n",
       "89   jebak sumur tua kaki buntung akibat jual formalin     0      0        0   \n",
       "92   tenggorok bakar hujan debu sang jual air minum...     0      0        0   \n",
       "93   tipu investasi bodong kaki bengkak tewas mobil...     0      0        0   \n",
       "135   si tangan dzolim tinggal gelang curi susah lepas     0      0        0   \n",
       "138           dagang curang sekarat dengkur rupa hewan     0      0        0   \n",
       "139                    kaya sugih siksa sakaratul maut     0      0        0   \n",
       "153    adzab pria jual tanah yayasan liang kubur ledak     0      0        0   \n",
       "156  akibat rebut suami kakak jelang ajal tubuh gat...     0      0        0   \n",
       "162  susah lahir durhaka kubur terdngar suara miste...     0      0        0   \n",
       "189  makan uang sumbang masjid bendahara dzolim sam...     0      0        0   \n",
       "\n",
       "     keranda  penderitaan   ...     istri  wasiat  warisan  ortu  \\\n",
       "0          0            1   ...         0       0        0     0   \n",
       "3          0            1   ...         0       0        0     0   \n",
       "4          0            1   ...         0       0        0     0   \n",
       "5          0            1   ...         0       0        0     0   \n",
       "6          0            1   ...         0       0        0     1   \n",
       "13         0            1   ...         0       0        0     0   \n",
       "22         0            1   ...         0       0        0     0   \n",
       "28         0            1   ...         1       0        0     0   \n",
       "34         0            1   ...         0       0        0     0   \n",
       "36         0            1   ...         0       0        0     0   \n",
       "43         0            1   ...         0       0        0     0   \n",
       "45         0            1   ...         0       0        0     0   \n",
       "55         0            1   ...         1       0        0     0   \n",
       "57         0            1   ...         0       0        0     0   \n",
       "66         0            1   ...         1       0        0     0   \n",
       "89         0            1   ...         0       0        0     0   \n",
       "92         0            1   ...         0       0        0     0   \n",
       "93         0            1   ...         0       0        0     0   \n",
       "135        0            1   ...         0       0        0     0   \n",
       "138        0            1   ...         0       0        0     0   \n",
       "139        0            1   ...         0       0        0     0   \n",
       "153        0            1   ...         0       0        0     0   \n",
       "156        0            1   ...         0       0        0     0   \n",
       "162        0            1   ...         0       0        0     0   \n",
       "189        0            1   ...         0       0        0     0   \n",
       "\n",
       "     durhaka_ortu  len_txt  len_txt_ns  \\\n",
       "0               0        4           4   \n",
       "3               1        9           9   \n",
       "4               1        7           6   \n",
       "5               0        7           4   \n",
       "6               1        8           6   \n",
       "13              0        8           7   \n",
       "22              0        8           7   \n",
       "28              0        7           6   \n",
       "34              1       10           8   \n",
       "36              0        6           6   \n",
       "43              0       12           7   \n",
       "45              0        8           8   \n",
       "55              0       11           9   \n",
       "57              0        9           5   \n",
       "66              0       13          12   \n",
       "89              0       12           8   \n",
       "92              0       11           9   \n",
       "93              0       16          10   \n",
       "135             0       10           8   \n",
       "138             0        7           6   \n",
       "139             0        7           5   \n",
       "153             0        8           8   \n",
       "156             0       11          11   \n",
       "162             1        9           7   \n",
       "189             0        8           8   \n",
       "\n",
       "                                     first_part  \\\n",
       "0                                    azab suami   \n",
       "3                  akibat mendzolimi anak yatim   \n",
       "4                           anakku ditolak bumi   \n",
       "5                            pencuri kehilangan   \n",
       "6                           tangan kaki borokan   \n",
       "13                     mulut terbakar menjelang   \n",
       "22                            akibat main jimat   \n",
       "28                         maut siksa menjemput   \n",
       "34                 akibat mengakui anak kandung   \n",
       "36                     mencuri sumbangan masjid   \n",
       "43                     bersyukur gadis kulitnya   \n",
       "45               tangan membusuk menjelang ajal   \n",
       "55                puluhan kilat petir menyambar   \n",
       "57                             pemalsu kosmetik   \n",
       "66       akibat menyia nyiakan suami anak istri   \n",
       "89                   terjebak sumur tua kakinya   \n",
       "92              tenggorokan terbakar hujan debu   \n",
       "93   penipu investasi bodong kakinya membengkak   \n",
       "135                  si tangan dzolim meninggal   \n",
       "138                     pedagang curang sekarat   \n",
       "139                              kaya pesugihan   \n",
       "153                    adzab pria menjual tanah   \n",
       "156        akibat merebut suami kakak menjelang   \n",
       "162                    susah melahirkan durhaka   \n",
       "189                 makan uang sumbangan masjid   \n",
       "\n",
       "                                         second_part  jenazah  \n",
       "0                                    penakluk wanita        0  \n",
       "3                tubuh bendahara masjid dihisap bumi        0  \n",
       "4                                   hidup penuh dosa        0  \n",
       "5                                    tangan hayatnya        0  \n",
       "6                              mencuri uang orangtua        0  \n",
       "13                         ajal si penghindar hutang        0  \n",
       "22                       si musyirik disiksa akhirat        0  \n",
       "28                                sang istri durhaka        0  \n",
       "34                         mata ditusuk seribu jarum        0  \n",
       "36                           tubuh terbelenggu semen        0  \n",
       "43                  keriput meninggal dipenuhi bisul        0  \n",
       "45                          si penadah barang curian        0  \n",
       "55                    tubuh si pencuri listrik culas        0  \n",
       "57                               terkubur pohon asap        0  \n",
       "66   tersiksa terkubur hidup hidup menjelang ajalnya        0  \n",
       "89                   buntung akibat menjual formalin        0  \n",
       "92                     sang penjual air minum dzalim        0  \n",
       "93                 tewas mobil jatuh jurang terbakar        0  \n",
       "135                   gelang curiannya susah dilepas        0  \n",
       "138                      mendengkur menyerupai hewan        0  \n",
       "139                          tersiksa sakaratul maut        0  \n",
       "153                   yayasan liang kuburnya meledak        0  \n",
       "156           ajal tubuh gatal gatal perut membuncit        0  \n",
       "162              penguburan terdngar suara misterius        0  \n",
       "189                 bendahara dzolim tersambar petir        0  \n",
       "\n",
       "[25 rows x 27 columns]"
      ]
     },
     "execution_count": 124,
     "metadata": {},
     "output_type": "execute_result"
    }
   ],
   "source": [
    "dtx[dtx.penderitaan==1]\n",
    "# dtx[dtx.mati==1]\n",
    "# dtx[dtx.mayat==1]\n",
    "# dtx[dtx.keranda==1]\n",
    "# dtx[dtx[[\"mati\",\"jenazah\",\"kuburan\",\"keranda\"]].sum(axis=1)>=3][\"Judul\"][88]"
   ]
  },
  {
   "cell_type": "code",
   "execution_count": 105,
   "metadata": {},
   "outputs": [],
   "source": [
    "sal_co=dtx[\"Saluran TV\"].value_counts()"
   ]
  },
  {
   "cell_type": "code",
   "execution_count": 106,
   "metadata": {},
   "outputs": [],
   "source": [
    "d_tingkat_dosa=dtx.groupby(\"Saluran TV\")[\"mati\",\"jenazah\",\"kuburan\",\"keranda\",\"penderitaan\"].sum()\n",
    "d_tingkat_dosa[\"All Data Count\"]=sal_co\n",
    "\n",
    "col_2=[]\n",
    "for c in [\"mati\",\"jenazah\",\"kuburan\",\"keranda\",\"penderitaan\"]:\n",
    "    d_tingkat_dosa[c+\"_proportion\"]=d_tingkat_dosa[c]/d_tingkat_dosa[\"All Data Count\"]\n",
    "    col_2.append(c+\"_proportion\")"
   ]
  },
  {
   "cell_type": "code",
   "execution_count": 107,
   "metadata": {},
   "outputs": [
    {
     "data": {
      "text/html": [
       "<div>\n",
       "<style scoped>\n",
       "    .dataframe tbody tr th:only-of-type {\n",
       "        vertical-align: middle;\n",
       "    }\n",
       "\n",
       "    .dataframe tbody tr th {\n",
       "        vertical-align: top;\n",
       "    }\n",
       "\n",
       "    .dataframe thead th {\n",
       "        text-align: right;\n",
       "    }\n",
       "</style>\n",
       "<table border=\"1\" class=\"dataframe\">\n",
       "  <thead>\n",
       "    <tr style=\"text-align: right;\">\n",
       "      <th></th>\n",
       "      <th>mati_proportion</th>\n",
       "      <th>jenazah_proportion</th>\n",
       "      <th>kuburan_proportion</th>\n",
       "      <th>keranda_proportion</th>\n",
       "      <th>penderitaan_proportion</th>\n",
       "    </tr>\n",
       "    <tr>\n",
       "      <th>Saluran TV</th>\n",
       "      <th></th>\n",
       "      <th></th>\n",
       "      <th></th>\n",
       "      <th></th>\n",
       "      <th></th>\n",
       "    </tr>\n",
       "  </thead>\n",
       "  <tbody>\n",
       "    <tr>\n",
       "      <th>Indosiar</th>\n",
       "      <td>0.122137</td>\n",
       "      <td>0.564885</td>\n",
       "      <td>0.335878</td>\n",
       "      <td>0.091603</td>\n",
       "      <td>0.137405</td>\n",
       "    </tr>\n",
       "    <tr>\n",
       "      <th>MNCTV</th>\n",
       "      <td>0.317460</td>\n",
       "      <td>0.444444</td>\n",
       "      <td>0.301587</td>\n",
       "      <td>0.031746</td>\n",
       "      <td>0.111111</td>\n",
       "    </tr>\n",
       "  </tbody>\n",
       "</table>\n",
       "</div>"
      ],
      "text/plain": [
       "            mati_proportion  jenazah_proportion  kuburan_proportion  \\\n",
       "Saluran TV                                                            \n",
       "Indosiar           0.122137            0.564885            0.335878   \n",
       "MNCTV              0.317460            0.444444            0.301587   \n",
       "\n",
       "            keranda_proportion  penderitaan_proportion  \n",
       "Saluran TV                                              \n",
       "Indosiar              0.091603                0.137405  \n",
       "MNCTV                 0.031746                0.111111  "
      ]
     },
     "execution_count": 107,
     "metadata": {},
     "output_type": "execute_result"
    }
   ],
   "source": [
    "d_tingkat_dosa[col_2]"
   ]
  },
  {
   "cell_type": "code",
   "execution_count": null,
   "metadata": {},
   "outputs": [],
   "source": []
  },
  {
   "cell_type": "code",
   "execution_count": null,
   "metadata": {},
   "outputs": [],
   "source": []
  },
  {
   "cell_type": "code",
   "execution_count": 146,
   "metadata": {},
   "outputs": [],
   "source": [
    "# dtx[\"women\"]=((dtx.Judul2_ns_stem.str.contains(\"wanita\"))|\n",
    "#                 (dtx.Judul2_ns_stem.str.contains(\"ibu\"))|\n",
    "#                 (dtx.Judul2_ns_stem.str.contains(\"istri\"))|\n",
    "#                 (dtx.Judul2_ns_stem.str.contains(\"perempuan\"))).astype(int)\n",
    "\n",
    "# dtx[\"harta\"]=((dtx.Judul2_ns_stem.str.contains(\"harta\"))|\n",
    "#                 (dtx.Judul2_ns_stem.str.contains(\" uang \"))).astype(int)"
   ]
  },
  {
   "cell_type": "code",
   "execution_count": 147,
   "metadata": {},
   "outputs": [],
   "source": [
    "# for XX in [\"women\",\"harta\"]:\n",
    "#     print(dtx[dtx[\"Saluran TV\"]==\"MNCTV\"][[XX,\"mati\",\n",
    "#             \"jenazah\",\"kuburan\",\"keranda\",\"penderitaan\"]].corr()[XX])"
   ]
  },
  {
   "cell_type": "code",
   "execution_count": 148,
   "metadata": {},
   "outputs": [],
   "source": [
    "# for XX in [\"women\",\"harta\"]:\n",
    "#     print(dtx[dtx[\"Saluran TV\"]==\"Indosiar\"][[XX,\"mati\",\n",
    "#             \"jenazah\",\"kuburan\",\"keranda\",\"penderitaan\"]].corr()[XX])"
   ]
  },
  {
   "cell_type": "code",
   "execution_count": null,
   "metadata": {},
   "outputs": [],
   "source": []
  },
  {
   "cell_type": "code",
   "execution_count": null,
   "metadata": {},
   "outputs": [],
   "source": []
  },
  {
   "cell_type": "markdown",
   "metadata": {},
   "source": [
    "### Analyze 2 (durhaka only)"
   ]
  },
  {
   "cell_type": "code",
   "execution_count": 130,
   "metadata": {},
   "outputs": [
    {
     "name": "stderr",
     "output_type": "stream",
     "text": [
      "/Users/alamhanz/anaconda/envs/py36/lib/python3.6/site-packages/gensim/matutils.py:737: FutureWarning: Conversion of the second argument of issubdtype from `int` to `np.signedinteger` is deprecated. In future, it will be treated as `np.int64 == np.dtype(int).type`.\n",
      "  if np.issubdtype(vec.dtype, np.int):\n"
     ]
    },
    {
     "data": {
      "text/plain": [
       "[('pengambil', 0.589604377746582),\n",
       " ('sampah', 0.5573948621749878),\n",
       " ('karyawan', 0.5269181132316589),\n",
       " ('lalai', 0.5221444368362427),\n",
       " ('yatim', 0.5168373584747314),\n",
       " ('vaksin', 0.46960020065307617),\n",
       " ('ratusan', 0.4675132930278778),\n",
       " ('timbangan', 0.4626060724258423),\n",
       " ('provokator', 0.4550347924232483),\n",
       " ('rentenir', 0.4456700384616852),\n",
       " ('gadis', 0.4428412616252899),\n",
       " ('bara', 0.4382106065750122),\n",
       " ('kambing', 0.43603792786598206),\n",
       " ('mandor', 0.4316137731075287),\n",
       " ('palsu', 0.4286765456199646),\n",
       " ('zalim', 0.4278440475463867),\n",
       " ('bekas', 0.4269106984138489),\n",
       " ('gosip', 0.4190877676010132),\n",
       " ('terseret', 0.40799596905708313),\n",
       " ('misterius', 0.4062816798686981)]"
      ]
     },
     "execution_count": 130,
     "metadata": {},
     "output_type": "execute_result"
    }
   ],
   "source": [
    "model_emb.wv.most_similar(positive=\"keranda\",topn=20)"
   ]
  },
  {
   "cell_type": "code",
   "execution_count": 131,
   "metadata": {},
   "outputs": [
    {
     "name": "stdout",
     "output_type": "stream",
     "text": [
      "mama doesn't exist\n",
      "papa doesn't exist\n"
     ]
    },
    {
     "name": "stderr",
     "output_type": "stream",
     "text": [
      "/Users/alamhanz/anaconda/envs/py36/lib/python3.6/site-packages/gensim/matutils.py:737: FutureWarning: Conversion of the second argument of issubdtype from `int` to `np.signedinteger` is deprecated. In future, it will be treated as `np.int64 == np.dtype(int).type`.\n",
      "  if np.issubdtype(vec.dtype, np.int):\n"
     ]
    }
   ],
   "source": [
    "try_word1=[\"ibu\",\"mama\",\"ayah\",\"papa\"]\n",
    "for x in try_word1:\n",
    "    try:\n",
    "        model_emb.wv.most_similar(positive=x,topn=20)\n",
    "    except:\n",
    "        print(x, \"doesn't exist\")"
   ]
  },
  {
   "cell_type": "code",
   "execution_count": 132,
   "metadata": {},
   "outputs": [],
   "source": [
    "# anak, durhaka, suami, istri, ibu, ayah, bapak"
   ]
  },
  {
   "cell_type": "code",
   "execution_count": 133,
   "metadata": {},
   "outputs": [],
   "source": [
    "dtx[\"durhaka\"]=dtx.Judul2.str.contains(\"durhaka\").astype(int)\n",
    "dtx[\"ibu\"]=dtx.Judul2.str.contains(\"ibu\").astype(int)\n",
    "dtx[\"ayah\"]=dtx.Judul2.str.contains(\"ayah\").astype(int)\n",
    "dtx[\"anak\"]=dtx.Judul2.str.contains(\"anak\").astype(int)\n",
    "dtx[\"suami\"]=dtx.Judul2.str.contains(\"suami\").astype(int)\n",
    "dtx[\"istri\"]=dtx.Judul2.str.contains(\"istri\").astype(int)\n",
    "dtx[\"wasiat\"]=dtx.Judul2.str.contains(\"wasiat\").astype(int)\n",
    "dtx[\"warisan\"]=dtx.Judul2.str.contains(\"warisan\").astype(int)\n",
    "\n",
    "dtx[\"ortu\"]=((dtx.Judul2.str.contains(\"orang tua\"))|(dtx.Judul2.str.contains(\"orangtua\"))).astype(int)"
   ]
  },
  {
   "cell_type": "code",
   "execution_count": 134,
   "metadata": {},
   "outputs": [
    {
     "data": {
      "text/plain": [
       "<matplotlib.axes._subplots.AxesSubplot at 0x1a1edafb00>"
      ]
     },
     "execution_count": 134,
     "metadata": {},
     "output_type": "execute_result"
    },
    {
     "data": {
      "image/png": "[encoded data removed]",
      "text/plain": [
       "<Figure size 720x576 with 2 Axes>"
      ]
     },
     "metadata": {},
     "output_type": "display_data"
    }
   ],
   "source": [
    "plt.figure(figsize=(10,8))\n",
    "sns.heatmap(dtx[[\"durhaka\",\"anak\",\"suami\",\"istri\",\"ortu\",\"ibu\",\"ayah\"]].corr(),vmax=0.25,annot=True)"
   ]
  },
  {
   "cell_type": "code",
   "execution_count": 135,
   "metadata": {},
   "outputs": [
    {
     "data": {
      "text/plain": [
       "0.12371134020618557"
      ]
     },
     "execution_count": 135,
     "metadata": {},
     "output_type": "execute_result"
    }
   ],
   "source": [
    "# tak akui ibu kandung\n",
    "dtx_anak_durhaka=dtx[((dtx.durhaka==1)|(dtx.anak==1)|(dtx.ibu==1)|(dtx.ayah==1)|\n",
    "         (dtx.ortu==1)|(dtx.wasiat==1)|(dtx.warisan==1))&(~((dtx.istri==1)|(dtx.suami==1)))]\n",
    "\n",
    "dtx_anak_durhaka2=dtx_anak_durhaka[dtx_anak_durhaka[[\"durhaka\",\"anak\",\"suami\",\"istri\",\n",
    "                                                     \"ortu\",\"ibu\",\"ayah\"]].sum(axis=1)>1]\n",
    "\n",
    "len(dtx_anak_durhaka2)/float(len(dtx))"
   ]
  },
  {
   "cell_type": "code",
   "execution_count": 136,
   "metadata": {},
   "outputs": [],
   "source": [
    "sal_co=dtx[\"Saluran TV\"].value_counts()"
   ]
  },
  {
   "cell_type": "code",
   "execution_count": 137,
   "metadata": {},
   "outputs": [
    {
     "data": {
      "text/plain": [
       "Indosiar    0.152672\n",
       "MNCTV       0.063492\n",
       "Name: Saluran TV, dtype: float64"
      ]
     },
     "execution_count": 137,
     "metadata": {},
     "output_type": "execute_result"
    }
   ],
   "source": [
    "dtx_anak_durhaka2[\"Saluran TV\"].value_counts()/sal_co"
   ]
  },
  {
   "cell_type": "code",
   "execution_count": null,
   "metadata": {},
   "outputs": [],
   "source": []
  },
  {
   "cell_type": "code",
   "execution_count": 149,
   "metadata": {},
   "outputs": [],
   "source": [
    "# dtx_anak_durhaka2\n",
    "dtx[\"durhaka_ortu\"]=(((dtx.durhaka==1)|(dtx.anak==1)|(dtx.ibu==1)|(dtx.ayah==1)|\n",
    "         (dtx.ortu==1)|(dtx.wasiat==1)|(dtx.warisan==1))&(~((dtx.istri==1)|(dtx.suami==1)))).astype(int)\n",
    "dtx[\"harta\"]=((dtx.Judul2_ns_stem.str.contains(\"harta\"))|\n",
    "                (dtx.Judul2_ns_stem.str.contains(\" uang \"))).astype(int)"
   ]
  },
  {
   "cell_type": "code",
   "execution_count": 181,
   "metadata": {},
   "outputs": [],
   "source": [
    "dG1=dtx[dtx[\"Saluran TV\"]==\"MNCTV\"][[\"durhaka_ortu\",\"harta\",\"mati\",\n",
    "        \"jenazah\",\"kuburan\",\"keranda\",\"penderitaan\"]].corr()[[\"durhaka_ortu\",\"harta\"]]\n",
    "dG1_g=dG1.unstack().reset_index()\n",
    "dG1_g.columns=[\"Dosa\",\"Azab\",\"Korelasi\"]\n",
    "dG1_g[\"TV\"]=\"MNCTV\"\n",
    "dG1_g=dG1_g[dG1_g.Dosa!=dG1_g.Azab]"
   ]
  },
  {
   "cell_type": "code",
   "execution_count": 182,
   "metadata": {},
   "outputs": [],
   "source": [
    "dG2=dtx[dtx[\"Saluran TV\"]==\"Indosiar\"][[\"durhaka_ortu\",\"harta\",\"mati\",\n",
    "        \"jenazah\",\"kuburan\",\"keranda\",\"penderitaan\"]].corr()[[\"durhaka_ortu\",\"harta\"]]\n",
    "dG2_g=dG2.unstack().reset_index()\n",
    "dG2_g.columns=[\"Dosa\",\"Azab\",\"Korelasi\"]\n",
    "dG2_g[\"TV\"]=\"Indosiar\"\n",
    "dG2_g=dG2_g[dG2_g.Dosa!=dG2_g.Azab]"
   ]
  },
  {
   "cell_type": "code",
   "execution_count": 183,
   "metadata": {},
   "outputs": [],
   "source": [
    "dGG=pd.concat([dG1_g,dG2_g])"
   ]
  },
  {
   "cell_type": "code",
   "execution_count": 197,
   "metadata": {},
   "outputs": [
    {
     "data": {
      "text/html": [
       "<div>\n",
       "<style scoped>\n",
       "    .dataframe tbody tr th:only-of-type {\n",
       "        vertical-align: middle;\n",
       "    }\n",
       "\n",
       "    .dataframe tbody tr th {\n",
       "        vertical-align: top;\n",
       "    }\n",
       "\n",
       "    .dataframe thead tr th {\n",
       "        text-align: left;\n",
       "    }\n",
       "\n",
       "    .dataframe thead tr:last-of-type th {\n",
       "        text-align: right;\n",
       "    }\n",
       "</style>\n",
       "<table border=\"1\" class=\"dataframe\">\n",
       "  <thead>\n",
       "    <tr>\n",
       "      <th>TV</th>\n",
       "      <th colspan=\"2\" halign=\"left\">Indosiar</th>\n",
       "      <th colspan=\"2\" halign=\"left\">MNCTV</th>\n",
       "    </tr>\n",
       "    <tr>\n",
       "      <th>Dosa</th>\n",
       "      <th>durhaka_ortu</th>\n",
       "      <th>harta</th>\n",
       "      <th>durhaka_ortu</th>\n",
       "      <th>harta</th>\n",
       "    </tr>\n",
       "    <tr>\n",
       "      <th>Azab</th>\n",
       "      <th></th>\n",
       "      <th></th>\n",
       "      <th></th>\n",
       "      <th></th>\n",
       "    </tr>\n",
       "  </thead>\n",
       "  <tbody>\n",
       "    <tr>\n",
       "      <th>durhaka_ortu</th>\n",
       "      <td>NaN</td>\n",
       "      <td>0.031502</td>\n",
       "      <td>NaN</td>\n",
       "      <td>0.266800</td>\n",
       "    </tr>\n",
       "    <tr>\n",
       "      <th>harta</th>\n",
       "      <td>0.031502</td>\n",
       "      <td>NaN</td>\n",
       "      <td>0.266800</td>\n",
       "      <td>NaN</td>\n",
       "    </tr>\n",
       "    <tr>\n",
       "      <th>jenazah</th>\n",
       "      <td>0.075245</td>\n",
       "      <td>0.154687</td>\n",
       "      <td>-0.170747</td>\n",
       "      <td>-0.144437</td>\n",
       "    </tr>\n",
       "    <tr>\n",
       "      <th>keranda</th>\n",
       "      <td>-0.110091</td>\n",
       "      <td>-0.000728</td>\n",
       "      <td>0.120983</td>\n",
       "      <td>-0.053164</td>\n",
       "    </tr>\n",
       "    <tr>\n",
       "      <th>kuburan</th>\n",
       "      <td>-0.041401</td>\n",
       "      <td>-0.157037</td>\n",
       "      <td>0.147895</td>\n",
       "      <td>0.190909</td>\n",
       "    </tr>\n",
       "    <tr>\n",
       "      <th>mati</th>\n",
       "      <td>0.018635</td>\n",
       "      <td>-0.028875</td>\n",
       "      <td>-0.036454</td>\n",
       "      <td>0.052063</td>\n",
       "    </tr>\n",
       "    <tr>\n",
       "      <th>penderitaan</th>\n",
       "      <td>-0.006445</td>\n",
       "      <td>-0.040890</td>\n",
       "      <td>-0.067494</td>\n",
       "      <td>0.083045</td>\n",
       "    </tr>\n",
       "  </tbody>\n",
       "</table>\n",
       "</div>"
      ],
      "text/plain": [
       "TV               Indosiar                  MNCTV          \n",
       "Dosa         durhaka_ortu     harta durhaka_ortu     harta\n",
       "Azab                                                      \n",
       "durhaka_ortu          NaN  0.031502          NaN  0.266800\n",
       "harta            0.031502       NaN     0.266800       NaN\n",
       "jenazah          0.075245  0.154687    -0.170747 -0.144437\n",
       "keranda         -0.110091 -0.000728     0.120983 -0.053164\n",
       "kuburan         -0.041401 -0.157037     0.147895  0.190909\n",
       "mati             0.018635 -0.028875    -0.036454  0.052063\n",
       "penderitaan     -0.006445 -0.040890    -0.067494  0.083045"
      ]
     },
     "execution_count": 197,
     "metadata": {},
     "output_type": "execute_result"
    }
   ],
   "source": [
    "dGG2=dGG.groupby([\"Azab\",\"Dosa\",\"TV\"]).mean()\n",
    "dGG2.unstack().unstack()[\"Korelasi\"]"
   ]
  },
  {
   "cell_type": "code",
   "execution_count": null,
   "metadata": {},
   "outputs": [],
   "source": []
  },
  {
   "cell_type": "markdown",
   "metadata": {},
   "source": [
    "------------------------------------------------------------------------------------------------------------"
   ]
  },
  {
   "cell_type": "markdown",
   "metadata": {},
   "source": [
    "### Analyze 5 (pisah azab dan penyebabnya)"
   ]
  },
  {
   "cell_type": "code",
   "execution_count": 68,
   "metadata": {},
   "outputs": [],
   "source": [
    "# tfidf (k-means)\n",
    "def tokenize_and_stem(text):\n",
    "    # first tokenize by sentence, then by word to ensure that punctuation is caught as it's own token\n",
    "    tokens = [word for sent in nltk.sent_tokenize(text) for word in nltk.word_tokenize(sent)]\n",
    "    filtered_tokens = []\n",
    "    # filter out any tokens not containing letters (e.g., numeric tokens, raw punctuation)\n",
    "    for token in tokens:\n",
    "        if re.search('[a-zA-Z]', token):\n",
    "            filtered_tokens.append(token)\n",
    "    stems = [stemmer.stem(t) for t in filtered_tokens]\n",
    "    return stems\n",
    "#     return filtered_tokens\n",
    "\n",
    "def wcloud(text,title0,title):\n",
    "    wordcloud2 = WordCloud(width=800, height=400).generate(text)\n",
    "    plt.figure(figsize=(12,12))\n",
    "    plt.title(title0,fontsize=40,ha='center',va='bottom')\n",
    "    plt.imshow(wordcloud2, interpolation='bilinear')\n",
    "    plt.axis(\"off\")\n",
    "    plt.tight_layout(pad=0)\n",
    "    plt.savefig(title)\n",
    "    \n",
    "def txt_f_part(dta):\n",
    "    nn=int(dta[\"len_txt_ns\"]/2)\n",
    "    X=dta[\"Judul2_no_stopwords\"].split(\" \")\n",
    "    X2=X[:nn]\n",
    "    return \" \".join(X2)\n",
    "    \n",
    "def txt_l_part(dta):\n",
    "    nn=int(dta[\"len_txt_ns\"]/2)\n",
    "    X=dta[\"Judul2_no_stopwords\"].split(\" \")\n",
    "    X2=X[nn:]\n",
    "    return \" \".join(X2)"
   ]
  },
  {
   "cell_type": "code",
   "execution_count": 69,
   "metadata": {},
   "outputs": [],
   "source": [
    "pict_path=\"../pict/\""
   ]
  },
  {
   "cell_type": "code",
   "execution_count": 70,
   "metadata": {},
   "outputs": [],
   "source": [
    "## bagi 2\n",
    "dtx[\"len_txt\"]=dtx.Judul2.apply(lambda x: len(x.split(\" \")))\n",
    "dtx[\"len_txt_ns\"]=dtx.Judul2_ns_stem.apply(lambda x: len(x.split(\" \")))\n",
    "dtx[\"first_part\"]=dtx.apply(txt_f_part,axis=1)\n",
    "dtx[\"second_part\"]=dtx.apply(txt_l_part,axis=1)\n"
   ]
  },
  {
   "cell_type": "code",
   "execution_count": 71,
   "metadata": {},
   "outputs": [
    {
     "data": {
      "text/plain": [
       "<matplotlib.axes._subplots.AxesSubplot at 0x1a1e4be5c0>"
      ]
     },
     "execution_count": 71,
     "metadata": {},
     "output_type": "execute_result"
    },
    {
     "data": {
      "image/png": "[encoded data removed]",
      "text/plain": [
       "<Figure size 720x576 with 1 Axes>"
      ]
     },
     "metadata": {},
     "output_type": "display_data"
    }
   ],
   "source": [
    "dtx.len_txt.plot(kind=\"hist\",bins=100,figsize=(10,8), title=\"Length Text Distribution\")"
   ]
  },
  {
   "cell_type": "code",
   "execution_count": null,
   "metadata": {},
   "outputs": [],
   "source": []
  },
  {
   "cell_type": "code",
   "execution_count": 59,
   "metadata": {},
   "outputs": [
    {
     "data": {
      "text/plain": [
       "Saluran TV\n",
       "Indosiar    131\n",
       "MNCTV        63\n",
       "dtype: int64"
      ]
     },
     "execution_count": 59,
     "metadata": {},
     "output_type": "execute_result"
    }
   ],
   "source": [
    "dtx.groupby([\"Saluran TV\"]).size()"
   ]
  },
  {
   "cell_type": "code",
   "execution_count": 60,
   "metadata": {},
   "outputs": [
    {
     "data": {
      "text/plain": [
       "count    194.000000\n",
       "mean       9.969072\n",
       "std        2.585145\n",
       "min        4.000000\n",
       "25%        8.000000\n",
       "50%       10.000000\n",
       "75%       12.000000\n",
       "max       19.000000\n",
       "Name: len_txt, dtype: float64"
      ]
     },
     "execution_count": 60,
     "metadata": {},
     "output_type": "execute_result"
    }
   ],
   "source": [
    "dtx.len_txt.describe()"
   ]
  },
  {
   "cell_type": "code",
   "execution_count": 61,
   "metadata": {},
   "outputs": [
    {
     "data": {
      "text/plain": [
       "<matplotlib.axes._subplots.AxesSubplot at 0x1a17b0cc50>"
      ]
     },
     "execution_count": 61,
     "metadata": {},
     "output_type": "execute_result"
    },
    {
     "data": {
      "image/png": "[encoded data removed]",
      "text/plain": [
       "<Figure size 432x288 with 1 Axes>"
      ]
     },
     "metadata": {},
     "output_type": "display_data"
    }
   ],
   "source": [
    "dtx[dtx[\"Saluran TV\"]==\"MNCTV\"].len_txt.hist()"
   ]
  },
  {
   "cell_type": "code",
   "execution_count": 75,
   "metadata": {},
   "outputs": [
    {
     "name": "stderr",
     "output_type": "stream",
     "text": [
      "/Users/alamhanz/anaconda/envs/py36/lib/python3.6/site-packages/ipykernel/__main__.py:1: FutureWarning: Method .as_matrix will be removed in a future version. Use .values instead.\n",
      "  if __name__ == '__main__':\n"
     ]
    },
    {
     "data": {
      "text/plain": [
       "array(['Jenazah Memanjang Azab Kepada Orang Yang Suka Mencuri Kotak Mesjid',\n",
       "       'Pemalsu Kosmetik Terkubur Bersama Pohon Besar dan Keluar Asap',\n",
       "       'Zalim Pada Karyawan, Bos Pabrik Jenazahnya Hilang Tertimbun Sampah'],\n",
       "      dtype=object)"
      ]
     },
     "execution_count": 75,
     "metadata": {},
     "output_type": "execute_result"
    }
   ],
   "source": [
    "dtx.Judul.sample(3).as_matrix()"
   ]
  },
  {
   "cell_type": "code",
   "execution_count": 65,
   "metadata": {},
   "outputs": [],
   "source": [
    "# create tf-idf from all judul\n",
    "\n",
    "list_txt_f=dtx.first_part\n",
    "list_txt_l=dtx.second_part\n",
    "\n",
    "tv1 = TfidfVectorizer(max_df=0.99, max_features=50,\n",
    "                                 min_df=0.001, stop_words=stop_words_id,\n",
    "                                 use_idf=True, ngram_range=(1,3))\n",
    "\n",
    "tv2 = TfidfVectorizer(max_df=0.99, max_features=50,\n",
    "                                 min_df=0.001, stop_words=stop_words_id,\n",
    "                                 use_idf=True, ngram_range=(1,3))"
   ]
  },
  {
   "cell_type": "code",
   "execution_count": 66,
   "metadata": {},
   "outputs": [
    {
     "name": "stderr",
     "output_type": "stream",
     "text": [
      "/Users/alamhanz/anaconda/envs/py36/lib/python3.6/site-packages/sklearn/feature_extraction/text.py:286: UserWarning: Your stop_words may be inconsistent with your preprocessing. Tokenizing the stop words generated tokens ['baiknya', 'berkali', 'kali', 'kurangnya', 'mata', 'olah', 'sekurang', 'setidak', 'tama', 'tidaknya'] not in stop_words.\n",
      "  sorted(inconsistent))\n",
      "/Users/alamhanz/anaconda/envs/py36/lib/python3.6/site-packages/sklearn/feature_extraction/text.py:286: UserWarning: Your stop_words may be inconsistent with your preprocessing. Tokenizing the stop words generated tokens ['baiknya', 'berkali', 'kali', 'kurangnya', 'mata', 'olah', 'sekurang', 'setidak', 'tama', 'tidaknya'] not in stop_words.\n",
      "  sorted(inconsistent))\n"
     ]
    },
    {
     "data": {
      "text/plain": [
       "TfidfVectorizer(analyzer='word', binary=False, decode_error='strict',\n",
       "        dtype=<class 'numpy.float64'>, encoding='utf-8', input='content',\n",
       "        lowercase=True, max_df=0.99, max_features=50, min_df=0.001,\n",
       "        ngram_range=(1, 3), norm='l2', preprocessor=None, smooth_idf=True,\n",
       "        stop_words=['lanjut', 'tiba-tiba', 'wahai', 'beberapa', 'bukannya', 'jawabnya', 'apabila', 'tak', 'berikan', 'tidak', 'sebaiknya', 'dijelaskannya', 'lima', 'kapankah', 'menyiapkan', 'tepat', 'terbanyak', 'untuk', 'ujar', 'memisalkan', 'perlu', 'lanjutnya', 'mengatakan', 'tidaklah', 'sini', 'cukuplah...alah', 'dipertanyakan', 'yakni', 'menyatakan', 'adanya', 'mengenai', 'akhir', 'macam', 'dipastikan'],\n",
       "        strip_accents=None, sublinear_tf=False,\n",
       "        token_pattern='(?u)\\\\b\\\\w\\\\w+\\\\b', tokenizer=None, use_idf=True,\n",
       "        vocabulary=None)"
      ]
     },
     "execution_count": 66,
     "metadata": {},
     "output_type": "execute_result"
    }
   ],
   "source": [
    "tv1.fit(list_txt_f)\n",
    "tv2.fit(list_txt_l)"
   ]
  },
  {
   "cell_type": "code",
   "execution_count": 67,
   "metadata": {},
   "outputs": [],
   "source": [
    "tfidf_mat_f=tv1.transform(list_txt_f)\n",
    "tfidf_mat_l=tv2.transform(list_txt_l)"
   ]
  },
  {
   "cell_type": "code",
   "execution_count": 68,
   "metadata": {},
   "outputs": [],
   "source": [
    " ## Clustering the topics into 5 Cluster\n",
    "from sklearn.cluster import KMeans\n",
    "km1 = KMeans(n_clusters=2, max_iter=1000, tol=0.01)\n",
    "km2 = KMeans(n_clusters=2, max_iter=1000, tol=0.01)"
   ]
  },
  {
   "cell_type": "code",
   "execution_count": 69,
   "metadata": {},
   "outputs": [
    {
     "data": {
      "text/plain": [
       "KMeans(algorithm='auto', copy_x=True, init='k-means++', max_iter=1000,\n",
       "    n_clusters=2, n_init=10, n_jobs=None, precompute_distances='auto',\n",
       "    random_state=None, tol=0.01, verbose=0)"
      ]
     },
     "execution_count": 69,
     "metadata": {},
     "output_type": "execute_result"
    }
   ],
   "source": [
    "km1.fit(tfidf_mat_f)\n",
    "km2.fit(tfidf_mat_l)"
   ]
  },
  {
   "cell_type": "code",
   "execution_count": 70,
   "metadata": {},
   "outputs": [],
   "source": [
    "dtx[\"cluster_f\"]=km1.labels_\n",
    "dtx[\"cluster_l\"]=km2.labels_"
   ]
  },
  {
   "cell_type": "code",
   "execution_count": 72,
   "metadata": {},
   "outputs": [
    {
     "data": {
      "text/plain": [
       "cluster_l\n",
       "0    178\n",
       "1     16\n",
       "Name: Judul, dtype: int64"
      ]
     },
     "execution_count": 72,
     "metadata": {},
     "output_type": "execute_result"
    }
   ],
   "source": [
    "dtx.groupby(\"cluster_l\").count()[\"Judul\"]"
   ]
  },
  {
   "cell_type": "code",
   "execution_count": 74,
   "metadata": {},
   "outputs": [
    {
     "data": {
      "text/html": [
       "<div>\n",
       "<style scoped>\n",
       "    .dataframe tbody tr th:only-of-type {\n",
       "        vertical-align: middle;\n",
       "    }\n",
       "\n",
       "    .dataframe tbody tr th {\n",
       "        vertical-align: top;\n",
       "    }\n",
       "\n",
       "    .dataframe thead th {\n",
       "        text-align: right;\n",
       "    }\n",
       "</style>\n",
       "<table border=\"1\" class=\"dataframe\">\n",
       "  <thead>\n",
       "    <tr style=\"text-align: right;\">\n",
       "      <th></th>\n",
       "      <th>Judul</th>\n",
       "      <th>Saluran TV</th>\n",
       "      <th>Judul2</th>\n",
       "      <th>Judul2_no_stopwords</th>\n",
       "      <th>Judul2_ns_stem</th>\n",
       "      <th>len_txt</th>\n",
       "      <th>len_txt_ns</th>\n",
       "      <th>first_part</th>\n",
       "      <th>second_part</th>\n",
       "      <th>cluster_f</th>\n",
       "      <th>cluster_l</th>\n",
       "    </tr>\n",
       "  </thead>\n",
       "  <tbody>\n",
       "    <tr>\n",
       "      <th>46</th>\n",
       "      <td>Jenazah Tukang Ojek Serakah Pemakan Harta Saud...</td>\n",
       "      <td>Indosiar</td>\n",
       "      <td>jenazah tukang ojek serakah pemakan harta saud...</td>\n",
       "      <td>jenazah tukang ojek serakah pemakan harta saud...</td>\n",
       "      <td>jenazah tukang ojek serakah makan harta saudar...</td>\n",
       "      <td>13</td>\n",
       "      <td>11</td>\n",
       "      <td>jenazah tukang ojek serakah pemakan</td>\n",
       "      <td>harta saudara membuncit jatuh air terjun</td>\n",
       "      <td>1</td>\n",
       "      <td>0</td>\n",
       "    </tr>\n",
       "    <tr>\n",
       "      <th>145</th>\n",
       "      <td>Murka Ibu Membuat Keranda Anak Durhaka Tertanc...</td>\n",
       "      <td>MNCTV</td>\n",
       "      <td>murka ibu membuat keranda anak durhaka tertanc...</td>\n",
       "      <td>murka ibu keranda anak durhaka tertancap bambu</td>\n",
       "      <td>murka ibu keranda anak durhaka tancap bambu</td>\n",
       "      <td>8</td>\n",
       "      <td>7</td>\n",
       "      <td>murka ibu keranda</td>\n",
       "      <td>anak durhaka tertancap bambu</td>\n",
       "      <td>0</td>\n",
       "      <td>0</td>\n",
       "    </tr>\n",
       "    <tr>\n",
       "      <th>173</th>\n",
       "      <td>Jenazah Perampok Sadis Masuk Ke Sungai</td>\n",
       "      <td>MNCTV</td>\n",
       "      <td>jenazah perampok sadis masuk ke sungai</td>\n",
       "      <td>jenazah perampok sadis masuk sungai</td>\n",
       "      <td>jenazah rampok sadis masuk sungai</td>\n",
       "      <td>6</td>\n",
       "      <td>5</td>\n",
       "      <td>jenazah perampok</td>\n",
       "      <td>sadis masuk sungai</td>\n",
       "      <td>1</td>\n",
       "      <td>0</td>\n",
       "    </tr>\n",
       "    <tr>\n",
       "      <th>56</th>\n",
       "      <td>Liang Lahat Anak Tiri Mengecil Karena Durhaka ...</td>\n",
       "      <td>Indosiar</td>\n",
       "      <td>liang lahat anak tiri mengecil karena durhaka ...</td>\n",
       "      <td>liang lahat anak tiri mengecil durhaka ibu tiri</td>\n",
       "      <td>liang lahat anak tiri kecil durhaka ibu tiri</td>\n",
       "      <td>10</td>\n",
       "      <td>8</td>\n",
       "      <td>liang lahat anak tiri</td>\n",
       "      <td>mengecil durhaka ibu tiri</td>\n",
       "      <td>0</td>\n",
       "      <td>0</td>\n",
       "    </tr>\n",
       "    <tr>\n",
       "      <th>105</th>\n",
       "      <td>Penjual Cendol Berbahan Pewarna Tekstil dan Pe...</td>\n",
       "      <td>Indosiar</td>\n",
       "      <td>penjual cendol berbahan pewarna tekstil dan pe...</td>\n",
       "      <td>penjual cendol berbahan pewarna tekstil pemani...</td>\n",
       "      <td>jual cendol bahan warna tekstil man buat liang...</td>\n",
       "      <td>14</td>\n",
       "      <td>13</td>\n",
       "      <td>penjual cendol berbahan pewarna tekstil pemanis</td>\n",
       "      <td>buatan liang lahatnya mengeluarkan cairan berw...</td>\n",
       "      <td>0</td>\n",
       "      <td>0</td>\n",
       "    </tr>\n",
       "    <tr>\n",
       "      <th>47</th>\n",
       "      <td>Akibat Dzalim Kepada Ayah, Keranda Jenazah Ana...</td>\n",
       "      <td>Indosiar</td>\n",
       "      <td>akibat dzalim kepada ayah keranda jenazah anak...</td>\n",
       "      <td>akibat dzalim ayah keranda jenazah anak disera...</td>\n",
       "      <td>akibat dzalim ayah keranda jenazah anak serang...</td>\n",
       "      <td>9</td>\n",
       "      <td>8</td>\n",
       "      <td>akibat dzalim ayah keranda</td>\n",
       "      <td>jenazah anak diserang lebah</td>\n",
       "      <td>0</td>\n",
       "      <td>0</td>\n",
       "    </tr>\n",
       "    <tr>\n",
       "      <th>172</th>\n",
       "      <td>Akibat Mempermainkan Pernikahan, Kuburannya Di...</td>\n",
       "      <td>MNCTV</td>\n",
       "      <td>akibat mempermainkan pernikahan kuburannya dik...</td>\n",
       "      <td>akibat mempermainkan pernikahan kuburannya dik...</td>\n",
       "      <td>akibat main nikah kubur rubung hewan</td>\n",
       "      <td>6</td>\n",
       "      <td>6</td>\n",
       "      <td>akibat mempermainkan pernikahan</td>\n",
       "      <td>kuburannya dikerubungi hewan</td>\n",
       "      <td>0</td>\n",
       "      <td>0</td>\n",
       "    </tr>\n",
       "    <tr>\n",
       "      <th>174</th>\n",
       "      <td>Jenazah Terpental Semburan Gas di Liang Lahat</td>\n",
       "      <td>MNCTV</td>\n",
       "      <td>jenazah terpental semburan gas di liang lahat</td>\n",
       "      <td>jenazah terpental semburan gas liang lahat</td>\n",
       "      <td>jenazah pental sembur gas liang lahat</td>\n",
       "      <td>7</td>\n",
       "      <td>6</td>\n",
       "      <td>jenazah terpental semburan</td>\n",
       "      <td>gas liang lahat</td>\n",
       "      <td>1</td>\n",
       "      <td>0</td>\n",
       "    </tr>\n",
       "    <tr>\n",
       "      <th>149</th>\n",
       "      <td>Akibat Merebut Suami Sahabat, Liang Lahatnya P...</td>\n",
       "      <td>MNCTV</td>\n",
       "      <td>akibat merebut suami sahabat liang lahatnya pe...</td>\n",
       "      <td>akibat merebut suami sahabat liang lahatnya pe...</td>\n",
       "      <td>akibat rebut suami sahabat liang lahatnya penu...</td>\n",
       "      <td>9</td>\n",
       "      <td>9</td>\n",
       "      <td>akibat merebut suami sahabat</td>\n",
       "      <td>liang lahatnya penuh kalajengking berbisa</td>\n",
       "      <td>0</td>\n",
       "      <td>0</td>\n",
       "    </tr>\n",
       "    <tr>\n",
       "      <th>158</th>\n",
       "      <td>Kepala Panti Asuhan Serakah Terjepit Liang Lah...</td>\n",
       "      <td>MNCTV</td>\n",
       "      <td>kepala panti asuhan serakah terjepit liang lah...</td>\n",
       "      <td>kepala panti asuhan serakah terjepit liang lah...</td>\n",
       "      <td>kepala panti asuh serakah jepit liang lahat sa...</td>\n",
       "      <td>9</td>\n",
       "      <td>9</td>\n",
       "      <td>kepala panti asuhan serakah</td>\n",
       "      <td>terjepit liang lahat tersapu banjir</td>\n",
       "      <td>0</td>\n",
       "      <td>0</td>\n",
       "    </tr>\n",
       "  </tbody>\n",
       "</table>\n",
       "</div>"
      ],
      "text/plain": [
       "                                                 Judul Saluran TV  \\\n",
       "46   Jenazah Tukang Ojek Serakah Pemakan Harta Saud...   Indosiar   \n",
       "145  Murka Ibu Membuat Keranda Anak Durhaka Tertanc...      MNCTV   \n",
       "173             Jenazah Perampok Sadis Masuk Ke Sungai      MNCTV   \n",
       "56   Liang Lahat Anak Tiri Mengecil Karena Durhaka ...   Indosiar   \n",
       "105  Penjual Cendol Berbahan Pewarna Tekstil dan Pe...   Indosiar   \n",
       "47   Akibat Dzalim Kepada Ayah, Keranda Jenazah Ana...   Indosiar   \n",
       "172  Akibat Mempermainkan Pernikahan, Kuburannya Di...      MNCTV   \n",
       "174      Jenazah Terpental Semburan Gas di Liang Lahat      MNCTV   \n",
       "149  Akibat Merebut Suami Sahabat, Liang Lahatnya P...      MNCTV   \n",
       "158  Kepala Panti Asuhan Serakah Terjepit Liang Lah...      MNCTV   \n",
       "\n",
       "                                                Judul2  \\\n",
       "46   jenazah tukang ojek serakah pemakan harta saud...   \n",
       "145  murka ibu membuat keranda anak durhaka tertanc...   \n",
       "173             jenazah perampok sadis masuk ke sungai   \n",
       "56   liang lahat anak tiri mengecil karena durhaka ...   \n",
       "105  penjual cendol berbahan pewarna tekstil dan pe...   \n",
       "47   akibat dzalim kepada ayah keranda jenazah anak...   \n",
       "172  akibat mempermainkan pernikahan kuburannya dik...   \n",
       "174      jenazah terpental semburan gas di liang lahat   \n",
       "149  akibat merebut suami sahabat liang lahatnya pe...   \n",
       "158  kepala panti asuhan serakah terjepit liang lah...   \n",
       "\n",
       "                                   Judul2_no_stopwords  \\\n",
       "46   jenazah tukang ojek serakah pemakan harta saud...   \n",
       "145     murka ibu keranda anak durhaka tertancap bambu   \n",
       "173                jenazah perampok sadis masuk sungai   \n",
       "56     liang lahat anak tiri mengecil durhaka ibu tiri   \n",
       "105  penjual cendol berbahan pewarna tekstil pemani...   \n",
       "47   akibat dzalim ayah keranda jenazah anak disera...   \n",
       "172  akibat mempermainkan pernikahan kuburannya dik...   \n",
       "174         jenazah terpental semburan gas liang lahat   \n",
       "149  akibat merebut suami sahabat liang lahatnya pe...   \n",
       "158  kepala panti asuhan serakah terjepit liang lah...   \n",
       "\n",
       "                                        Judul2_ns_stem  len_txt  len_txt_ns  \\\n",
       "46   jenazah tukang ojek serakah makan harta saudar...       13          11   \n",
       "145        murka ibu keranda anak durhaka tancap bambu        8           7   \n",
       "173                  jenazah rampok sadis masuk sungai        6           5   \n",
       "56        liang lahat anak tiri kecil durhaka ibu tiri       10           8   \n",
       "105  jual cendol bahan warna tekstil man buat liang...       14          13   \n",
       "47   akibat dzalim ayah keranda jenazah anak serang...        9           8   \n",
       "172               akibat main nikah kubur rubung hewan        6           6   \n",
       "174              jenazah pental sembur gas liang lahat        7           6   \n",
       "149  akibat rebut suami sahabat liang lahatnya penu...        9           9   \n",
       "158  kepala panti asuh serakah jepit liang lahat sa...        9           9   \n",
       "\n",
       "                                          first_part  \\\n",
       "46               jenazah tukang ojek serakah pemakan   \n",
       "145                                murka ibu keranda   \n",
       "173                                 jenazah perampok   \n",
       "56                             liang lahat anak tiri   \n",
       "105  penjual cendol berbahan pewarna tekstil pemanis   \n",
       "47                        akibat dzalim ayah keranda   \n",
       "172                  akibat mempermainkan pernikahan   \n",
       "174                       jenazah terpental semburan   \n",
       "149                     akibat merebut suami sahabat   \n",
       "158                      kepala panti asuhan serakah   \n",
       "\n",
       "                                           second_part  cluster_f  cluster_l  \n",
       "46            harta saudara membuncit jatuh air terjun          1          0  \n",
       "145                       anak durhaka tertancap bambu          0          0  \n",
       "173                                 sadis masuk sungai          1          0  \n",
       "56                           mengecil durhaka ibu tiri          0          0  \n",
       "105  buatan liang lahatnya mengeluarkan cairan berw...          0          0  \n",
       "47                         jenazah anak diserang lebah          0          0  \n",
       "172                       kuburannya dikerubungi hewan          0          0  \n",
       "174                                    gas liang lahat          1          0  \n",
       "149          liang lahatnya penuh kalajengking berbisa          0          0  \n",
       "158                terjepit liang lahat tersapu banjir          0          0  "
      ]
     },
     "execution_count": 74,
     "metadata": {},
     "output_type": "execute_result"
    }
   ],
   "source": [
    "dtx.sample(10)"
   ]
  },
  {
   "cell_type": "code",
   "execution_count": 52,
   "metadata": {},
   "outputs": [
    {
     "data": {
      "image/png": "[encoded data removed]",
      "text/plain": [
       "<Figure size 864x864 with 1 Axes>"
      ]
     },
     "metadata": {},
     "output_type": "display_data"
    }
   ],
   "source": [
    "## Checking The Cluster1 \n",
    "cl=1\n",
    "tc0=' '.join(dtx[dtx.cluster_f==cl].first_part)\n",
    "title0=\"f_test_\"+str(cl)\n",
    "title=pict_path+'test_f_most_word_'+str(cl)+'.png'\n",
    "wcloud(tc0,title0,title)"
   ]
  },
  {
   "cell_type": "code",
   "execution_count": null,
   "metadata": {},
   "outputs": [],
   "source": []
  },
  {
   "cell_type": "code",
   "execution_count": 157,
   "metadata": {},
   "outputs": [
    {
     "data": {
      "text/html": [
       "<div>\n",
       "<style scoped>\n",
       "    .dataframe tbody tr th:only-of-type {\n",
       "        vertical-align: middle;\n",
       "    }\n",
       "\n",
       "    .dataframe tbody tr th {\n",
       "        vertical-align: top;\n",
       "    }\n",
       "\n",
       "    .dataframe thead th {\n",
       "        text-align: right;\n",
       "    }\n",
       "</style>\n",
       "<table border=\"1\" class=\"dataframe\">\n",
       "  <thead>\n",
       "    <tr style=\"text-align: right;\">\n",
       "      <th></th>\n",
       "      <th>Judul</th>\n",
       "      <th>Saluran TV</th>\n",
       "      <th>Judul2</th>\n",
       "      <th>Judul2_no_stopwords</th>\n",
       "      <th>Judul2_ns_stem</th>\n",
       "      <th>cluster_0</th>\n",
       "    </tr>\n",
       "  </thead>\n",
       "  <tbody>\n",
       "    <tr>\n",
       "      <th>0</th>\n",
       "      <td>Azab Suami Penakluk Wanita</td>\n",
       "      <td>Indosiar</td>\n",
       "      <td>azab suami penakluk wanita</td>\n",
       "      <td>azab suami penakluk wanita</td>\n",
       "      <td>azab suami takluk wanita</td>\n",
       "      <td>0</td>\n",
       "    </tr>\n",
       "    <tr>\n",
       "      <th>1</th>\n",
       "      <td>Liang Lahat Anak Tiri Mengecil Karena Durhaka ...</td>\n",
       "      <td>Indosiar</td>\n",
       "      <td>liang lahat anak tiri mengecil karena durhaka ...</td>\n",
       "      <td>liang lahat anak tiri mengecil durhaka ibu tiri</td>\n",
       "      <td>liang lahat anak tiri kecil durhaka ibu tiri</td>\n",
       "      <td>4</td>\n",
       "    </tr>\n",
       "    <tr>\n",
       "      <th>2</th>\n",
       "      <td>Hujan Badai Mengiringi Pemakaman Penjual Liang...</td>\n",
       "      <td>Indosiar</td>\n",
       "      <td>hujan badai mengiringi pemakaman penjual liang...</td>\n",
       "      <td>hujan badai mengiringi pemakaman penjual liang...</td>\n",
       "      <td>hujan badai iring makam jual liang lahat</td>\n",
       "      <td>4</td>\n",
       "    </tr>\n",
       "    <tr>\n",
       "      <th>3</th>\n",
       "      <td>Akibat Mendzolimi Anak Yatim, Tubuh Bendahara ...</td>\n",
       "      <td>Indosiar</td>\n",
       "      <td>akibat mendzolimi anak yatim tubuh bendahara m...</td>\n",
       "      <td>akibat mendzolimi anak yatim tubuh bendahara m...</td>\n",
       "      <td>akibat dzolim anak yatim tubuh bendahara masji...</td>\n",
       "      <td>3</td>\n",
       "    </tr>\n",
       "    <tr>\n",
       "      <th>4</th>\n",
       "      <td>Anakku Ditolak Bumi Karena Hidup penuh Dosa</td>\n",
       "      <td>Indosiar</td>\n",
       "      <td>anakku ditolak bumi karena hidup penuh dosa</td>\n",
       "      <td>anakku ditolak bumi hidup penuh dosa</td>\n",
       "      <td>anak tolak bumi hidup penuh dosa</td>\n",
       "      <td>3</td>\n",
       "    </tr>\n",
       "  </tbody>\n",
       "</table>\n",
       "</div>"
      ],
      "text/plain": [
       "                                               Judul Saluran TV  \\\n",
       "0                         Azab Suami Penakluk Wanita   Indosiar   \n",
       "1  Liang Lahat Anak Tiri Mengecil Karena Durhaka ...   Indosiar   \n",
       "2  Hujan Badai Mengiringi Pemakaman Penjual Liang...   Indosiar   \n",
       "3  Akibat Mendzolimi Anak Yatim, Tubuh Bendahara ...   Indosiar   \n",
       "4        Anakku Ditolak Bumi Karena Hidup penuh Dosa   Indosiar   \n",
       "\n",
       "                                              Judul2  \\\n",
       "0                         azab suami penakluk wanita   \n",
       "1  liang lahat anak tiri mengecil karena durhaka ...   \n",
       "2  hujan badai mengiringi pemakaman penjual liang...   \n",
       "3  akibat mendzolimi anak yatim tubuh bendahara m...   \n",
       "4        anakku ditolak bumi karena hidup penuh dosa   \n",
       "\n",
       "                                 Judul2_no_stopwords  \\\n",
       "0                         azab suami penakluk wanita   \n",
       "1    liang lahat anak tiri mengecil durhaka ibu tiri   \n",
       "2  hujan badai mengiringi pemakaman penjual liang...   \n",
       "3  akibat mendzolimi anak yatim tubuh bendahara m...   \n",
       "4               anakku ditolak bumi hidup penuh dosa   \n",
       "\n",
       "                                      Judul2_ns_stem  cluster_0  \n",
       "0                           azab suami takluk wanita          0  \n",
       "1       liang lahat anak tiri kecil durhaka ibu tiri          4  \n",
       "2           hujan badai iring makam jual liang lahat          4  \n",
       "3  akibat dzolim anak yatim tubuh bendahara masji...          3  \n",
       "4                   anak tolak bumi hidup penuh dosa          3  "
      ]
     },
     "execution_count": 157,
     "metadata": {},
     "output_type": "execute_result"
    }
   ],
   "source": [
    "dtx.head()"
   ]
  },
  {
   "cell_type": "code",
   "execution_count": null,
   "metadata": {},
   "outputs": [],
   "source": []
  }
 ],
 "metadata": {
  "kernelspec": {
   "display_name": "Python [conda env:py36]",
   "language": "python",
   "name": "conda-env-py36-py"
  },
  "language_info": {
   "codemirror_mode": {
    "name": "ipython",
    "version": 3
   },
   "file_extension": ".py",
   "mimetype": "text/x-python",
   "name": "python",
   "nbconvert_exporter": "python",
   "pygments_lexer": "ipython3",
   "version": "3.6.5"
  }
 },
 "nbformat": 4,
 "nbformat_minor": 2
}
